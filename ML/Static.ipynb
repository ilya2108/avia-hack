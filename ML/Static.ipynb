{
  "nbformat": 4,
  "nbformat_minor": 0,
  "metadata": {
    "colab": {
      "provenance": []
    },
    "kernelspec": {
      "name": "python3",
      "display_name": "Python 3"
    },
    "language_info": {
      "name": "python"
    }
  },
  "cells": [
    {
      "cell_type": "code",
      "execution_count": 1,
      "metadata": {
        "id": "zCE_GyTPpQsf",
        "colab": {
          "base_uri": "https://localhost:8080/"
        },
        "outputId": "354db924-3651-4a65-e1e5-bd14f28c899e"
      },
      "outputs": [
        {
          "output_type": "stream",
          "name": "stdout",
          "text": [
            "Mounted at /content/drive\n"
          ]
        }
      ],
      "source": [
        "from google.colab import drive\n",
        "drive.mount('/content/drive')"
      ]
    },
    {
      "cell_type": "code",
      "source": [
        "import pandas as pd\n",
        "import matplotlib.pyplot as plt\n",
        "import seaborn as sns\n",
        "from datetime import datetime, timedelta\n",
        "import statistics"
      ],
      "metadata": {
        "id": "dxQ-v3D8Sq3d"
      },
      "execution_count": 212,
      "outputs": []
    },
    {
      "cell_type": "markdown",
      "source": [
        "# Обзорка на данные"
      ],
      "metadata": {
        "id": "lVs68ZtuVbf2"
      }
    },
    {
      "cell_type": "code",
      "source": [
        "with open('/content/drive/My Drive/data/foo.txt', 'w') as f:\n",
        "  f.write('Hello Google Drive!')"
      ],
      "metadata": {
        "id": "t0tR_2inSqBF"
      },
      "execution_count": 4,
      "outputs": []
    },
    {
      "cell_type": "code",
      "source": [
        "data1 = pd.read_excel('/content/drive/My Drive/data/0.Справочник БС_модули_блоки.xlsx')\n",
        "data1.head()"
      ],
      "metadata": {
        "id": "qwBJRu_VS4gz"
      },
      "execution_count": null,
      "outputs": []
    },
    {
      "cell_type": "code",
      "source": [
        "data2 = pd.read_excel('/content/drive/My Drive/data/0.Справочник групп позиций для графиков.xlsx')\n",
        "data2.head()"
      ],
      "metadata": {
        "id": "GUcDcjJYT5_2"
      },
      "execution_count": null,
      "outputs": []
    },
    {
      "cell_type": "code",
      "source": [
        "data3 = pd.read_excel('/content/drive/My Drive/data/0.Справочник перевод штуки в м3.xlsx')\n",
        "data3.head()"
      ],
      "metadata": {
        "id": "GzYb3U54T6Sy"
      },
      "execution_count": null,
      "outputs": []
    },
    {
      "cell_type": "code",
      "source": [
        "data4 = pd.read_excel('/content/drive/My Drive/data/1.ОСНОВНОЙ Факт объемы_м3_2017_2022_по дням1.xlsx')\n",
        "data4.head()"
      ],
      "metadata": {
        "colab": {
          "base_uri": "https://localhost:8080/",
          "height": 383
        },
        "id": "mxY1DdMEUAqt",
        "outputId": "2574791d-3247-459f-ba6b-c08937570468"
      },
      "execution_count": 17,
      "outputs": [
        {
          "output_type": "execute_result",
          "data": {
            "text/plain": [
              "  в кубах ,м3 Unnamed: 1   Unnamed: 2 Unnamed: 3       Unnamed: 4  Unnamed: 5  \\\n",
              "0         NaT        МСК           СЗ       Урал   всего Хранение         NaN   \n",
              "1  2017-01-01    4727.21  1898.559166    1399.61      8025.379166         NaN   \n",
              "2  2017-01-02    4727.21  1898.559166    1399.61      8025.379166         NaN   \n",
              "3  2017-01-03    4727.21  1898.559166    1399.61      8025.379166         NaN   \n",
              "4  2017-01-04    4727.21  1898.559166    1399.61      8025.379166         NaN   \n",
              "\n",
              "   Unnamed: 6 Unnamed: 7 Unnamed: 8 Unnamed: 9  ... Unnamed: 15  Unnamed: 16  \\\n",
              "0         NaN        МСК         СЗ       Урал  ...          СЗ         Урал   \n",
              "1         NaN        NaN        NaN        0.0  ...      2000.0       1000.0   \n",
              "2         NaN        NaN        NaN        0.0  ...      2000.0       1000.0   \n",
              "3         NaN        NaN        NaN        0.0  ...      2000.0       1000.0   \n",
              "4         NaN        NaN        NaN        0.0  ...      2000.0       1000.0   \n",
              "\n",
              "       Unnamed: 17  Unnamed: 18 Unnamed: 19 Unnamed: 20 резерв обработка  \\\n",
              "0   всего Хранение          NaN         NaN         NaN              МСК   \n",
              "1             7500          NaN         NaN      январь           2500.0   \n",
              "2             7500          NaN         NaN     февраль           2500.0   \n",
              "3             7500          NaN         NaN        март           2500.0   \n",
              "4             7500          NaN         NaN      апрель           2500.0   \n",
              "\n",
              "  Unnamed: 22  Unnamed: 23      Unnamed: 24  \n",
              "0          СЗ         Урал  всего Обработка  \n",
              "1       800.0        200.0             3500  \n",
              "2       800.0        400.0             3700  \n",
              "3       800.0        400.0             3700  \n",
              "4       800.0        400.0             3700  \n",
              "\n",
              "[5 rows x 25 columns]"
            ],
            "text/html": [
              "\n",
              "  <div id=\"df-6eba6547-a47f-45a0-8c35-c498882725ac\">\n",
              "    <div class=\"colab-df-container\">\n",
              "      <div>\n",
              "<style scoped>\n",
              "    .dataframe tbody tr th:only-of-type {\n",
              "        vertical-align: middle;\n",
              "    }\n",
              "\n",
              "    .dataframe tbody tr th {\n",
              "        vertical-align: top;\n",
              "    }\n",
              "\n",
              "    .dataframe thead th {\n",
              "        text-align: right;\n",
              "    }\n",
              "</style>\n",
              "<table border=\"1\" class=\"dataframe\">\n",
              "  <thead>\n",
              "    <tr style=\"text-align: right;\">\n",
              "      <th></th>\n",
              "      <th>в кубах ,м3</th>\n",
              "      <th>Unnamed: 1</th>\n",
              "      <th>Unnamed: 2</th>\n",
              "      <th>Unnamed: 3</th>\n",
              "      <th>Unnamed: 4</th>\n",
              "      <th>Unnamed: 5</th>\n",
              "      <th>Unnamed: 6</th>\n",
              "      <th>Unnamed: 7</th>\n",
              "      <th>Unnamed: 8</th>\n",
              "      <th>Unnamed: 9</th>\n",
              "      <th>...</th>\n",
              "      <th>Unnamed: 15</th>\n",
              "      <th>Unnamed: 16</th>\n",
              "      <th>Unnamed: 17</th>\n",
              "      <th>Unnamed: 18</th>\n",
              "      <th>Unnamed: 19</th>\n",
              "      <th>Unnamed: 20</th>\n",
              "      <th>резерв обработка</th>\n",
              "      <th>Unnamed: 22</th>\n",
              "      <th>Unnamed: 23</th>\n",
              "      <th>Unnamed: 24</th>\n",
              "    </tr>\n",
              "  </thead>\n",
              "  <tbody>\n",
              "    <tr>\n",
              "      <th>0</th>\n",
              "      <td>NaT</td>\n",
              "      <td>МСК</td>\n",
              "      <td>СЗ</td>\n",
              "      <td>Урал</td>\n",
              "      <td>всего Хранение</td>\n",
              "      <td>NaN</td>\n",
              "      <td>NaN</td>\n",
              "      <td>МСК</td>\n",
              "      <td>СЗ</td>\n",
              "      <td>Урал</td>\n",
              "      <td>...</td>\n",
              "      <td>СЗ</td>\n",
              "      <td>Урал</td>\n",
              "      <td>всего Хранение</td>\n",
              "      <td>NaN</td>\n",
              "      <td>NaN</td>\n",
              "      <td>NaN</td>\n",
              "      <td>МСК</td>\n",
              "      <td>СЗ</td>\n",
              "      <td>Урал</td>\n",
              "      <td>всего Обработка</td>\n",
              "    </tr>\n",
              "    <tr>\n",
              "      <th>1</th>\n",
              "      <td>2017-01-01</td>\n",
              "      <td>4727.21</td>\n",
              "      <td>1898.559166</td>\n",
              "      <td>1399.61</td>\n",
              "      <td>8025.379166</td>\n",
              "      <td>NaN</td>\n",
              "      <td>NaN</td>\n",
              "      <td>NaN</td>\n",
              "      <td>NaN</td>\n",
              "      <td>0.0</td>\n",
              "      <td>...</td>\n",
              "      <td>2000.0</td>\n",
              "      <td>1000.0</td>\n",
              "      <td>7500</td>\n",
              "      <td>NaN</td>\n",
              "      <td>NaN</td>\n",
              "      <td>январь</td>\n",
              "      <td>2500.0</td>\n",
              "      <td>800.0</td>\n",
              "      <td>200.0</td>\n",
              "      <td>3500</td>\n",
              "    </tr>\n",
              "    <tr>\n",
              "      <th>2</th>\n",
              "      <td>2017-01-02</td>\n",
              "      <td>4727.21</td>\n",
              "      <td>1898.559166</td>\n",
              "      <td>1399.61</td>\n",
              "      <td>8025.379166</td>\n",
              "      <td>NaN</td>\n",
              "      <td>NaN</td>\n",
              "      <td>NaN</td>\n",
              "      <td>NaN</td>\n",
              "      <td>0.0</td>\n",
              "      <td>...</td>\n",
              "      <td>2000.0</td>\n",
              "      <td>1000.0</td>\n",
              "      <td>7500</td>\n",
              "      <td>NaN</td>\n",
              "      <td>NaN</td>\n",
              "      <td>февраль</td>\n",
              "      <td>2500.0</td>\n",
              "      <td>800.0</td>\n",
              "      <td>400.0</td>\n",
              "      <td>3700</td>\n",
              "    </tr>\n",
              "    <tr>\n",
              "      <th>3</th>\n",
              "      <td>2017-01-03</td>\n",
              "      <td>4727.21</td>\n",
              "      <td>1898.559166</td>\n",
              "      <td>1399.61</td>\n",
              "      <td>8025.379166</td>\n",
              "      <td>NaN</td>\n",
              "      <td>NaN</td>\n",
              "      <td>NaN</td>\n",
              "      <td>NaN</td>\n",
              "      <td>0.0</td>\n",
              "      <td>...</td>\n",
              "      <td>2000.0</td>\n",
              "      <td>1000.0</td>\n",
              "      <td>7500</td>\n",
              "      <td>NaN</td>\n",
              "      <td>NaN</td>\n",
              "      <td>март</td>\n",
              "      <td>2500.0</td>\n",
              "      <td>800.0</td>\n",
              "      <td>400.0</td>\n",
              "      <td>3700</td>\n",
              "    </tr>\n",
              "    <tr>\n",
              "      <th>4</th>\n",
              "      <td>2017-01-04</td>\n",
              "      <td>4727.21</td>\n",
              "      <td>1898.559166</td>\n",
              "      <td>1399.61</td>\n",
              "      <td>8025.379166</td>\n",
              "      <td>NaN</td>\n",
              "      <td>NaN</td>\n",
              "      <td>NaN</td>\n",
              "      <td>NaN</td>\n",
              "      <td>0.0</td>\n",
              "      <td>...</td>\n",
              "      <td>2000.0</td>\n",
              "      <td>1000.0</td>\n",
              "      <td>7500</td>\n",
              "      <td>NaN</td>\n",
              "      <td>NaN</td>\n",
              "      <td>апрель</td>\n",
              "      <td>2500.0</td>\n",
              "      <td>800.0</td>\n",
              "      <td>400.0</td>\n",
              "      <td>3700</td>\n",
              "    </tr>\n",
              "  </tbody>\n",
              "</table>\n",
              "<p>5 rows × 25 columns</p>\n",
              "</div>\n",
              "      <button class=\"colab-df-convert\" onclick=\"convertToInteractive('df-6eba6547-a47f-45a0-8c35-c498882725ac')\"\n",
              "              title=\"Convert this dataframe to an interactive table.\"\n",
              "              style=\"display:none;\">\n",
              "        \n",
              "  <svg xmlns=\"http://www.w3.org/2000/svg\" height=\"24px\"viewBox=\"0 0 24 24\"\n",
              "       width=\"24px\">\n",
              "    <path d=\"M0 0h24v24H0V0z\" fill=\"none\"/>\n",
              "    <path d=\"M18.56 5.44l.94 2.06.94-2.06 2.06-.94-2.06-.94-.94-2.06-.94 2.06-2.06.94zm-11 1L8.5 8.5l.94-2.06 2.06-.94-2.06-.94L8.5 2.5l-.94 2.06-2.06.94zm10 10l.94 2.06.94-2.06 2.06-.94-2.06-.94-.94-2.06-.94 2.06-2.06.94z\"/><path d=\"M17.41 7.96l-1.37-1.37c-.4-.4-.92-.59-1.43-.59-.52 0-1.04.2-1.43.59L10.3 9.45l-7.72 7.72c-.78.78-.78 2.05 0 2.83L4 21.41c.39.39.9.59 1.41.59.51 0 1.02-.2 1.41-.59l7.78-7.78 2.81-2.81c.8-.78.8-2.07 0-2.86zM5.41 20L4 18.59l7.72-7.72 1.47 1.35L5.41 20z\"/>\n",
              "  </svg>\n",
              "      </button>\n",
              "      \n",
              "  <style>\n",
              "    .colab-df-container {\n",
              "      display:flex;\n",
              "      flex-wrap:wrap;\n",
              "      gap: 12px;\n",
              "    }\n",
              "\n",
              "    .colab-df-convert {\n",
              "      background-color: #E8F0FE;\n",
              "      border: none;\n",
              "      border-radius: 50%;\n",
              "      cursor: pointer;\n",
              "      display: none;\n",
              "      fill: #1967D2;\n",
              "      height: 32px;\n",
              "      padding: 0 0 0 0;\n",
              "      width: 32px;\n",
              "    }\n",
              "\n",
              "    .colab-df-convert:hover {\n",
              "      background-color: #E2EBFA;\n",
              "      box-shadow: 0px 1px 2px rgba(60, 64, 67, 0.3), 0px 1px 3px 1px rgba(60, 64, 67, 0.15);\n",
              "      fill: #174EA6;\n",
              "    }\n",
              "\n",
              "    [theme=dark] .colab-df-convert {\n",
              "      background-color: #3B4455;\n",
              "      fill: #D2E3FC;\n",
              "    }\n",
              "\n",
              "    [theme=dark] .colab-df-convert:hover {\n",
              "      background-color: #434B5C;\n",
              "      box-shadow: 0px 1px 3px 1px rgba(0, 0, 0, 0.15);\n",
              "      filter: drop-shadow(0px 1px 2px rgba(0, 0, 0, 0.3));\n",
              "      fill: #FFFFFF;\n",
              "    }\n",
              "  </style>\n",
              "\n",
              "      <script>\n",
              "        const buttonEl =\n",
              "          document.querySelector('#df-6eba6547-a47f-45a0-8c35-c498882725ac button.colab-df-convert');\n",
              "        buttonEl.style.display =\n",
              "          google.colab.kernel.accessAllowed ? 'block' : 'none';\n",
              "\n",
              "        async function convertToInteractive(key) {\n",
              "          const element = document.querySelector('#df-6eba6547-a47f-45a0-8c35-c498882725ac');\n",
              "          const dataTable =\n",
              "            await google.colab.kernel.invokeFunction('convertToInteractive',\n",
              "                                                     [key], {});\n",
              "          if (!dataTable) return;\n",
              "\n",
              "          const docLinkHtml = 'Like what you see? Visit the ' +\n",
              "            '<a target=\"_blank\" href=https://colab.research.google.com/notebooks/data_table.ipynb>data table notebook</a>'\n",
              "            + ' to learn more about interactive tables.';\n",
              "          element.innerHTML = '';\n",
              "          dataTable['output_type'] = 'display_data';\n",
              "          await google.colab.output.renderOutput(dataTable, element);\n",
              "          const docLink = document.createElement('div');\n",
              "          docLink.innerHTML = docLinkHtml;\n",
              "          element.appendChild(docLink);\n",
              "        }\n",
              "      </script>\n",
              "    </div>\n",
              "  </div>\n",
              "  "
            ]
          },
          "metadata": {},
          "execution_count": 17
        }
      ]
    },
    {
      "cell_type": "code",
      "source": [
        "data5 = pd.read_excel('/content/drive/My Drive/data/2.Факт расход в монтаж БС штуки 2021.xlsx')\n",
        "data5.head()"
      ],
      "metadata": {
        "id": "7rbyAsveUCvC"
      },
      "execution_count": null,
      "outputs": []
    },
    {
      "cell_type": "code",
      "source": [
        "data6 = pd.read_excel('/content/drive/My Drive/data/3.План БС в штуках(строка=штука)_2021.xlsx')\n",
        "data6.head()"
      ],
      "metadata": {
        "colab": {
          "base_uri": "https://localhost:8080/",
          "height": 206
        },
        "id": "im4_EyvaUE_O",
        "outputId": "a43c3f87-937b-427c-91ad-a3b1408121e2"
      },
      "execution_count": 19,
      "outputs": [
        {
          "output_type": "execute_result",
          "data": {
            "text/plain": [
              "   № Площадки              Регион   Диапазон Тип БС Дата ТЭ \\n(ЧЧ.ММ.ГГ)  \\\n",
              "0  PL_10_0062  Республика Карелия    GSM-900     БС           2021-03-30   \n",
              "1  PL_10_0062  Республика Карелия  UMTS-2100     БС           2021-03-30   \n",
              "2  PL_10_0062  Республика Карелия   LTE-2600     БС           2021-03-30   \n",
              "3  PL_10_0305  Республика Карелия    GSM-900     БС           2021-05-21   \n",
              "4  PL_10_0305  Республика Карелия  UMTS-2100     БС           2021-05-21   \n",
              "\n",
              "   Год \\nплана             exМР  \n",
              "0         2021  МР Северо-Запад  \n",
              "1         2021  МР Северо-Запад  \n",
              "2         2021  МР Северо-Запад  \n",
              "3         2021  МР Северо-Запад  \n",
              "4         2021  МР Северо-Запад  "
            ],
            "text/html": [
              "\n",
              "  <div id=\"df-e4c4cf2b-6e17-4b62-a9f2-e286566c310c\">\n",
              "    <div class=\"colab-df-container\">\n",
              "      <div>\n",
              "<style scoped>\n",
              "    .dataframe tbody tr th:only-of-type {\n",
              "        vertical-align: middle;\n",
              "    }\n",
              "\n",
              "    .dataframe tbody tr th {\n",
              "        vertical-align: top;\n",
              "    }\n",
              "\n",
              "    .dataframe thead th {\n",
              "        text-align: right;\n",
              "    }\n",
              "</style>\n",
              "<table border=\"1\" class=\"dataframe\">\n",
              "  <thead>\n",
              "    <tr style=\"text-align: right;\">\n",
              "      <th></th>\n",
              "      <th>№ Площадки</th>\n",
              "      <th>Регион</th>\n",
              "      <th>Диапазон</th>\n",
              "      <th>Тип БС</th>\n",
              "      <th>Дата ТЭ \\n(ЧЧ.ММ.ГГ)</th>\n",
              "      <th>Год \\nплана</th>\n",
              "      <th>exМР</th>\n",
              "    </tr>\n",
              "  </thead>\n",
              "  <tbody>\n",
              "    <tr>\n",
              "      <th>0</th>\n",
              "      <td>PL_10_0062</td>\n",
              "      <td>Республика Карелия</td>\n",
              "      <td>GSM-900</td>\n",
              "      <td>БС</td>\n",
              "      <td>2021-03-30</td>\n",
              "      <td>2021</td>\n",
              "      <td>МР Северо-Запад</td>\n",
              "    </tr>\n",
              "    <tr>\n",
              "      <th>1</th>\n",
              "      <td>PL_10_0062</td>\n",
              "      <td>Республика Карелия</td>\n",
              "      <td>UMTS-2100</td>\n",
              "      <td>БС</td>\n",
              "      <td>2021-03-30</td>\n",
              "      <td>2021</td>\n",
              "      <td>МР Северо-Запад</td>\n",
              "    </tr>\n",
              "    <tr>\n",
              "      <th>2</th>\n",
              "      <td>PL_10_0062</td>\n",
              "      <td>Республика Карелия</td>\n",
              "      <td>LTE-2600</td>\n",
              "      <td>БС</td>\n",
              "      <td>2021-03-30</td>\n",
              "      <td>2021</td>\n",
              "      <td>МР Северо-Запад</td>\n",
              "    </tr>\n",
              "    <tr>\n",
              "      <th>3</th>\n",
              "      <td>PL_10_0305</td>\n",
              "      <td>Республика Карелия</td>\n",
              "      <td>GSM-900</td>\n",
              "      <td>БС</td>\n",
              "      <td>2021-05-21</td>\n",
              "      <td>2021</td>\n",
              "      <td>МР Северо-Запад</td>\n",
              "    </tr>\n",
              "    <tr>\n",
              "      <th>4</th>\n",
              "      <td>PL_10_0305</td>\n",
              "      <td>Республика Карелия</td>\n",
              "      <td>UMTS-2100</td>\n",
              "      <td>БС</td>\n",
              "      <td>2021-05-21</td>\n",
              "      <td>2021</td>\n",
              "      <td>МР Северо-Запад</td>\n",
              "    </tr>\n",
              "  </tbody>\n",
              "</table>\n",
              "</div>\n",
              "      <button class=\"colab-df-convert\" onclick=\"convertToInteractive('df-e4c4cf2b-6e17-4b62-a9f2-e286566c310c')\"\n",
              "              title=\"Convert this dataframe to an interactive table.\"\n",
              "              style=\"display:none;\">\n",
              "        \n",
              "  <svg xmlns=\"http://www.w3.org/2000/svg\" height=\"24px\"viewBox=\"0 0 24 24\"\n",
              "       width=\"24px\">\n",
              "    <path d=\"M0 0h24v24H0V0z\" fill=\"none\"/>\n",
              "    <path d=\"M18.56 5.44l.94 2.06.94-2.06 2.06-.94-2.06-.94-.94-2.06-.94 2.06-2.06.94zm-11 1L8.5 8.5l.94-2.06 2.06-.94-2.06-.94L8.5 2.5l-.94 2.06-2.06.94zm10 10l.94 2.06.94-2.06 2.06-.94-2.06-.94-.94-2.06-.94 2.06-2.06.94z\"/><path d=\"M17.41 7.96l-1.37-1.37c-.4-.4-.92-.59-1.43-.59-.52 0-1.04.2-1.43.59L10.3 9.45l-7.72 7.72c-.78.78-.78 2.05 0 2.83L4 21.41c.39.39.9.59 1.41.59.51 0 1.02-.2 1.41-.59l7.78-7.78 2.81-2.81c.8-.78.8-2.07 0-2.86zM5.41 20L4 18.59l7.72-7.72 1.47 1.35L5.41 20z\"/>\n",
              "  </svg>\n",
              "      </button>\n",
              "      \n",
              "  <style>\n",
              "    .colab-df-container {\n",
              "      display:flex;\n",
              "      flex-wrap:wrap;\n",
              "      gap: 12px;\n",
              "    }\n",
              "\n",
              "    .colab-df-convert {\n",
              "      background-color: #E8F0FE;\n",
              "      border: none;\n",
              "      border-radius: 50%;\n",
              "      cursor: pointer;\n",
              "      display: none;\n",
              "      fill: #1967D2;\n",
              "      height: 32px;\n",
              "      padding: 0 0 0 0;\n",
              "      width: 32px;\n",
              "    }\n",
              "\n",
              "    .colab-df-convert:hover {\n",
              "      background-color: #E2EBFA;\n",
              "      box-shadow: 0px 1px 2px rgba(60, 64, 67, 0.3), 0px 1px 3px 1px rgba(60, 64, 67, 0.15);\n",
              "      fill: #174EA6;\n",
              "    }\n",
              "\n",
              "    [theme=dark] .colab-df-convert {\n",
              "      background-color: #3B4455;\n",
              "      fill: #D2E3FC;\n",
              "    }\n",
              "\n",
              "    [theme=dark] .colab-df-convert:hover {\n",
              "      background-color: #434B5C;\n",
              "      box-shadow: 0px 1px 3px 1px rgba(0, 0, 0, 0.15);\n",
              "      filter: drop-shadow(0px 1px 2px rgba(0, 0, 0, 0.3));\n",
              "      fill: #FFFFFF;\n",
              "    }\n",
              "  </style>\n",
              "\n",
              "      <script>\n",
              "        const buttonEl =\n",
              "          document.querySelector('#df-e4c4cf2b-6e17-4b62-a9f2-e286566c310c button.colab-df-convert');\n",
              "        buttonEl.style.display =\n",
              "          google.colab.kernel.accessAllowed ? 'block' : 'none';\n",
              "\n",
              "        async function convertToInteractive(key) {\n",
              "          const element = document.querySelector('#df-e4c4cf2b-6e17-4b62-a9f2-e286566c310c');\n",
              "          const dataTable =\n",
              "            await google.colab.kernel.invokeFunction('convertToInteractive',\n",
              "                                                     [key], {});\n",
              "          if (!dataTable) return;\n",
              "\n",
              "          const docLinkHtml = 'Like what you see? Visit the ' +\n",
              "            '<a target=\"_blank\" href=https://colab.research.google.com/notebooks/data_table.ipynb>data table notebook</a>'\n",
              "            + ' to learn more about interactive tables.';\n",
              "          element.innerHTML = '';\n",
              "          dataTable['output_type'] = 'display_data';\n",
              "          await google.colab.output.renderOutput(dataTable, element);\n",
              "          const docLink = document.createElement('div');\n",
              "          docLink.innerHTML = docLinkHtml;\n",
              "          element.appendChild(docLink);\n",
              "        }\n",
              "      </script>\n",
              "    </div>\n",
              "  </div>\n",
              "  "
            ]
          },
          "metadata": {},
          "execution_count": 19
        }
      ]
    },
    {
      "cell_type": "code",
      "source": [
        "data7 = pd.read_excel('/content/drive/My Drive/data/4.Ожидаемые поставки_Апрель2021.xlsx')\n",
        "data7.head()"
      ],
      "metadata": {
        "id": "iIGrO-QzUGQi"
      },
      "execution_count": null,
      "outputs": []
    },
    {
      "cell_type": "code",
      "source": [
        "data8 = pd.read_excel('/content/drive/My Drive/data/4.Ожидаемые поставки_Декабрь2020.xlsx')\n",
        "data8.head()"
      ],
      "metadata": {
        "id": "qItOeyRDUH8e"
      },
      "execution_count": null,
      "outputs": []
    },
    {
      "cell_type": "code",
      "source": [
        "data9 = pd.read_excel('/content/drive/My Drive/data/4.Ожидаемые поставки_Январь2021.xlsx')\n",
        "data9.head()"
      ],
      "metadata": {
        "id": "0J7nlCvLfDYT"
      },
      "execution_count": null,
      "outputs": []
    },
    {
      "cell_type": "code",
      "source": [
        "data10 = pd.read_excel('/content/drive/My Drive/data/5.Расходные операции_янв-дек2021.xlsx')\n",
        "data10.head()"
      ],
      "metadata": {
        "id": "lbWD4YY3fDjO"
      },
      "execution_count": null,
      "outputs": []
    },
    {
      "cell_type": "code",
      "source": [
        "data11 = pd.read_excel('/content/drive/My Drive/data/6.Приходные операции_2020-2021.xlsx')\n",
        "data11.head()"
      ],
      "metadata": {
        "id": "m9Td_INVfRJw"
      },
      "execution_count": null,
      "outputs": []
    },
    {
      "cell_type": "markdown",
      "source": [
        "# Подготовка данных о расходе\n"
      ],
      "metadata": {
        "id": "tDca396P7Kky"
      }
    },
    {
      "cell_type": "code",
      "source": [
        "ras = pd.read_excel('/content/drive/My Drive/data/cleaned/Rashod.xlsx', index_col = 'Дата операции', parse_dates = ['Дата операции'])\n",
        "ras = ras[ras[typ] == i]\n",
        "ras.head()"
      ],
      "metadata": {
        "colab": {
          "base_uri": "https://localhost:8080/",
          "height": 237
        },
        "id": "2W1PkO5y7SNj",
        "outputId": "ce4fc339-81b3-4a07-b58b-f33c4413da7c"
      },
      "execution_count": 210,
      "outputs": [
        {
          "output_type": "execute_result",
          "data": {
            "text/plain": [
              "                  Код позиции  Код организации источника         № Площадки  \\\n",
              "Дата операции                                                                 \n",
              "2020-09-01     169.036.000001                        304      10-0615 (300)   \n",
              "2020-09-01     248.020.000064                        304  PL_10_00097 (300)   \n",
              "2020-09-01     248.020.000064                        304      10-0001 (300)   \n",
              "2020-09-01     248.020.000065                        304      78-1265 (300)   \n",
              "2020-09-01     244.346.000468                        304  PL_10_00097 (300)   \n",
              "\n",
              "               Количество операции  Объем за единицу  Общий объем  \n",
              "Дата операции                                                      \n",
              "2020-09-01                    -2.0           0.00040      0.00080  \n",
              "2020-09-01                  -126.0           0.00100      0.12600  \n",
              "2020-09-01                  -230.0           0.00100      0.23000  \n",
              "2020-09-01                 -2892.0           0.00100      2.89200  \n",
              "2020-09-01                    -1.0           0.01008      0.01008  "
            ],
            "text/html": [
              "\n",
              "  <div id=\"df-4e3b8337-6051-4e54-a5e7-7994af93a60e\">\n",
              "    <div class=\"colab-df-container\">\n",
              "      <div>\n",
              "<style scoped>\n",
              "    .dataframe tbody tr th:only-of-type {\n",
              "        vertical-align: middle;\n",
              "    }\n",
              "\n",
              "    .dataframe tbody tr th {\n",
              "        vertical-align: top;\n",
              "    }\n",
              "\n",
              "    .dataframe thead th {\n",
              "        text-align: right;\n",
              "    }\n",
              "</style>\n",
              "<table border=\"1\" class=\"dataframe\">\n",
              "  <thead>\n",
              "    <tr style=\"text-align: right;\">\n",
              "      <th></th>\n",
              "      <th>Код позиции</th>\n",
              "      <th>Код организации источника</th>\n",
              "      <th>№ Площадки</th>\n",
              "      <th>Количество операции</th>\n",
              "      <th>Объем за единицу</th>\n",
              "      <th>Общий объем</th>\n",
              "    </tr>\n",
              "    <tr>\n",
              "      <th>Дата операции</th>\n",
              "      <th></th>\n",
              "      <th></th>\n",
              "      <th></th>\n",
              "      <th></th>\n",
              "      <th></th>\n",
              "      <th></th>\n",
              "    </tr>\n",
              "  </thead>\n",
              "  <tbody>\n",
              "    <tr>\n",
              "      <th>2020-09-01</th>\n",
              "      <td>169.036.000001</td>\n",
              "      <td>304</td>\n",
              "      <td>10-0615 (300)</td>\n",
              "      <td>-2.0</td>\n",
              "      <td>0.00040</td>\n",
              "      <td>0.00080</td>\n",
              "    </tr>\n",
              "    <tr>\n",
              "      <th>2020-09-01</th>\n",
              "      <td>248.020.000064</td>\n",
              "      <td>304</td>\n",
              "      <td>PL_10_00097 (300)</td>\n",
              "      <td>-126.0</td>\n",
              "      <td>0.00100</td>\n",
              "      <td>0.12600</td>\n",
              "    </tr>\n",
              "    <tr>\n",
              "      <th>2020-09-01</th>\n",
              "      <td>248.020.000064</td>\n",
              "      <td>304</td>\n",
              "      <td>10-0001 (300)</td>\n",
              "      <td>-230.0</td>\n",
              "      <td>0.00100</td>\n",
              "      <td>0.23000</td>\n",
              "    </tr>\n",
              "    <tr>\n",
              "      <th>2020-09-01</th>\n",
              "      <td>248.020.000065</td>\n",
              "      <td>304</td>\n",
              "      <td>78-1265 (300)</td>\n",
              "      <td>-2892.0</td>\n",
              "      <td>0.00100</td>\n",
              "      <td>2.89200</td>\n",
              "    </tr>\n",
              "    <tr>\n",
              "      <th>2020-09-01</th>\n",
              "      <td>244.346.000468</td>\n",
              "      <td>304</td>\n",
              "      <td>PL_10_00097 (300)</td>\n",
              "      <td>-1.0</td>\n",
              "      <td>0.01008</td>\n",
              "      <td>0.01008</td>\n",
              "    </tr>\n",
              "  </tbody>\n",
              "</table>\n",
              "</div>\n",
              "      <button class=\"colab-df-convert\" onclick=\"convertToInteractive('df-4e3b8337-6051-4e54-a5e7-7994af93a60e')\"\n",
              "              title=\"Convert this dataframe to an interactive table.\"\n",
              "              style=\"display:none;\">\n",
              "        \n",
              "  <svg xmlns=\"http://www.w3.org/2000/svg\" height=\"24px\"viewBox=\"0 0 24 24\"\n",
              "       width=\"24px\">\n",
              "    <path d=\"M0 0h24v24H0V0z\" fill=\"none\"/>\n",
              "    <path d=\"M18.56 5.44l.94 2.06.94-2.06 2.06-.94-2.06-.94-.94-2.06-.94 2.06-2.06.94zm-11 1L8.5 8.5l.94-2.06 2.06-.94-2.06-.94L8.5 2.5l-.94 2.06-2.06.94zm10 10l.94 2.06.94-2.06 2.06-.94-2.06-.94-.94-2.06-.94 2.06-2.06.94z\"/><path d=\"M17.41 7.96l-1.37-1.37c-.4-.4-.92-.59-1.43-.59-.52 0-1.04.2-1.43.59L10.3 9.45l-7.72 7.72c-.78.78-.78 2.05 0 2.83L4 21.41c.39.39.9.59 1.41.59.51 0 1.02-.2 1.41-.59l7.78-7.78 2.81-2.81c.8-.78.8-2.07 0-2.86zM5.41 20L4 18.59l7.72-7.72 1.47 1.35L5.41 20z\"/>\n",
              "  </svg>\n",
              "      </button>\n",
              "      \n",
              "  <style>\n",
              "    .colab-df-container {\n",
              "      display:flex;\n",
              "      flex-wrap:wrap;\n",
              "      gap: 12px;\n",
              "    }\n",
              "\n",
              "    .colab-df-convert {\n",
              "      background-color: #E8F0FE;\n",
              "      border: none;\n",
              "      border-radius: 50%;\n",
              "      cursor: pointer;\n",
              "      display: none;\n",
              "      fill: #1967D2;\n",
              "      height: 32px;\n",
              "      padding: 0 0 0 0;\n",
              "      width: 32px;\n",
              "    }\n",
              "\n",
              "    .colab-df-convert:hover {\n",
              "      background-color: #E2EBFA;\n",
              "      box-shadow: 0px 1px 2px rgba(60, 64, 67, 0.3), 0px 1px 3px 1px rgba(60, 64, 67, 0.15);\n",
              "      fill: #174EA6;\n",
              "    }\n",
              "\n",
              "    [theme=dark] .colab-df-convert {\n",
              "      background-color: #3B4455;\n",
              "      fill: #D2E3FC;\n",
              "    }\n",
              "\n",
              "    [theme=dark] .colab-df-convert:hover {\n",
              "      background-color: #434B5C;\n",
              "      box-shadow: 0px 1px 3px 1px rgba(0, 0, 0, 0.15);\n",
              "      filter: drop-shadow(0px 1px 2px rgba(0, 0, 0, 0.3));\n",
              "      fill: #FFFFFF;\n",
              "    }\n",
              "  </style>\n",
              "\n",
              "      <script>\n",
              "        const buttonEl =\n",
              "          document.querySelector('#df-4e3b8337-6051-4e54-a5e7-7994af93a60e button.colab-df-convert');\n",
              "        buttonEl.style.display =\n",
              "          google.colab.kernel.accessAllowed ? 'block' : 'none';\n",
              "\n",
              "        async function convertToInteractive(key) {\n",
              "          const element = document.querySelector('#df-4e3b8337-6051-4e54-a5e7-7994af93a60e');\n",
              "          const dataTable =\n",
              "            await google.colab.kernel.invokeFunction('convertToInteractive',\n",
              "                                                     [key], {});\n",
              "          if (!dataTable) return;\n",
              "\n",
              "          const docLinkHtml = 'Like what you see? Visit the ' +\n",
              "            '<a target=\"_blank\" href=https://colab.research.google.com/notebooks/data_table.ipynb>data table notebook</a>'\n",
              "            + ' to learn more about interactive tables.';\n",
              "          element.innerHTML = '';\n",
              "          dataTable['output_type'] = 'display_data';\n",
              "          await google.colab.output.renderOutput(dataTable, element);\n",
              "          const docLink = document.createElement('div');\n",
              "          docLink.innerHTML = docLinkHtml;\n",
              "          element.appendChild(docLink);\n",
              "        }\n",
              "      </script>\n",
              "    </div>\n",
              "  </div>\n",
              "  "
            ]
          },
          "metadata": {},
          "execution_count": 210
        }
      ]
    },
    {
      "cell_type": "code",
      "source": [
        "print(ras.size)\n",
        "ras = ras.dropna()\n",
        "print(ras.size)"
      ],
      "metadata": {
        "colab": {
          "base_uri": "https://localhost:8080/"
        },
        "id": "VZIlCPLK9CVZ",
        "outputId": "16ceea8d-c281-4689-ad4c-98b4a8ebd265"
      },
      "execution_count": 18,
      "outputs": [
        {
          "output_type": "stream",
          "name": "stdout",
          "text": [
            "1154484\n",
            "1148010\n"
          ]
        }
      ]
    },
    {
      "cell_type": "code",
      "source": [
        "dates = []\n",
        "vals = []"
      ],
      "metadata": {
        "id": "he1omsoR9FtW"
      },
      "execution_count": 24,
      "outputs": []
    },
    {
      "cell_type": "code",
      "source": [
        "test = ras[ras.index == pd.to_datetime(\"2020-09\", format='%Y-%m')]\n",
        "len(test)"
      ],
      "metadata": {
        "colab": {
          "base_uri": "https://localhost:8080/"
        },
        "id": "Wv0-D_Zl9tyU",
        "outputId": "55a1034e-51fa-4f14-e4a7-f21cd8dc6d6a"
      },
      "execution_count": 123,
      "outputs": [
        {
          "output_type": "execute_result",
          "data": {
            "text/plain": [
              "1191"
            ]
          },
          "metadata": {},
          "execution_count": 123
        }
      ]
    },
    {
      "cell_type": "code",
      "source": [
        "mn = [\"01\", \"02\", \"03\", \"04\", \"05\", \"06\", \"07\", \"08\", \"09\", \"10\", \"11\", \"12\"]"
      ],
      "metadata": {
        "id": "diwLAGw0GxNb"
      },
      "execution_count": 19,
      "outputs": []
    },
    {
      "cell_type": "code",
      "source": [
        "for i in [\"2021\"]:\n",
        "  for b in range(0, len(mn)):\n",
        "    if b == 0:\n",
        "      test = ras[ras.index <= pd.to_datetime(i+\"-\"+ mn[0]+\"-\"+\"31\", format='%Y-%m-%d') ]\n",
        "    else:\n",
        "      try:\n",
        "        q = pd.to_datetime(i+\"-\"+ mn[b-1]+\"-\"+\"31\", format='%Y-%m-%d') \n",
        "      except Exception:\n",
        "        try:\n",
        "          q = pd.to_datetime(i+\"-\"+ mn[b-1]+\"-\"+\"30\", format='%Y-%m-%d') \n",
        "        except Exception:\n",
        "          q = pd.to_datetime(i+\"-\"+ mn[b-1]+\"-\"+\"28\", format='%Y-%m-%d')\n",
        "      try:\n",
        "        r = pd.to_datetime(i+\"-\"+ mn[b]+\"-\"+\"31\", format='%Y-%m-%d')\n",
        "      except Exception:\n",
        "        try:\n",
        "          r = pd.to_datetime(i+\"-\"+ mn[b]+\"-\"+\"30\", format='%Y-%m-%d')\n",
        "        except Exception:\n",
        "          r = pd.to_datetime(i+\"-\"+ mn[b]+\"-\"+\"28\", format='%Y-%m-%d')\n",
        "      test = ras[q <= ras.index]\n",
        "      test = test[test.index < r]\n",
        "    if len(test) > 0:\n",
        "      dates.append(i+\"-\"+ mn[b])\n",
        "      vals.append(test['Общий объем'].sum())\n"
      ],
      "metadata": {
        "id": "DFjXm2V8CWFu"
      },
      "execution_count": 26,
      "outputs": []
    },
    {
      "cell_type": "code",
      "source": [
        "sorted(dates)"
      ],
      "metadata": {
        "colab": {
          "base_uri": "https://localhost:8080/"
        },
        "id": "WUYMp12RBrX2",
        "outputId": "108582ee-4acf-44da-d4d9-f6b455760517"
      },
      "execution_count": 27,
      "outputs": [
        {
          "output_type": "execute_result",
          "data": {
            "text/plain": [
              "['2021-01',\n",
              " '2021-02',\n",
              " '2021-03',\n",
              " '2021-04',\n",
              " '2021-05',\n",
              " '2021-06',\n",
              " '2021-07',\n",
              " '2021-08',\n",
              " '2021-09']"
            ]
          },
          "metadata": {},
          "execution_count": 27
        }
      ]
    },
    {
      "cell_type": "code",
      "source": [
        "vals"
      ],
      "metadata": {
        "colab": {
          "base_uri": "https://localhost:8080/"
        },
        "id": "mHE6BcP9D8a5",
        "outputId": "529ea491-ed0f-405a-dceb-374e2a36eafa"
      },
      "execution_count": 40,
      "outputs": [
        {
          "output_type": "execute_result",
          "data": {
            "text/plain": [
              "[11935.538728923799,\n",
              " 2017.9060650891,\n",
              " 2270.0078150988998,\n",
              " 1979.3687719151999,\n",
              " 1444.2512619688,\n",
              " 2435.8360039004,\n",
              " 1396.7708019702,\n",
              " 4349.7942705819005,\n",
              " 319.3093809658001]"
            ]
          },
          "metadata": {},
          "execution_count": 40
        }
      ]
    },
    {
      "cell_type": "code",
      "source": [
        "vals_kr = []"
      ],
      "metadata": {
        "id": "zlHxAhhCOI7J"
      },
      "execution_count": 32,
      "outputs": []
    },
    {
      "cell_type": "code",
      "source": [
        "vals_kr"
      ],
      "metadata": {
        "colab": {
          "base_uri": "https://localhost:8080/"
        },
        "id": "u7ESPnJLw2wi",
        "outputId": "8667c821-4f16-41a7-83e6-a9dc6de39f59"
      },
      "execution_count": 60,
      "outputs": [
        {
          "output_type": "execute_result",
          "data": {
            "text/plain": [
              "[123, 394, 735, 976, 1219, 1407, 1573, 2035, 1058, 2117, 1959, 2491]"
            ]
          },
          "metadata": {},
          "execution_count": 60
        }
      ]
    },
    {
      "cell_type": "code",
      "source": [
        "vals_res = {}"
      ],
      "metadata": {
        "id": "whu6jIAKyLPL"
      },
      "execution_count": 50,
      "outputs": []
    },
    {
      "cell_type": "code",
      "source": [
        "ras = pd.read_excel('/content/drive/My Drive/data/cleaned/baz_2021.xlsx', index_col = 'Дата', parse_dates = ['Дата'])\n",
        "ras.head()"
      ],
      "metadata": {
        "colab": {
          "base_uri": "https://localhost:8080/",
          "height": 237
        },
        "id": "T4yt4cQ-J2ql",
        "outputId": "f86c37b9-3da4-445f-b932-15230f968ec6"
      },
      "execution_count": 34,
      "outputs": [
        {
          "output_type": "execute_result",
          "data": {
            "text/plain": [
              "           Тип БС             exМР\n",
              "Дата                              \n",
              "2021-01-01     БС  МР Северо-Запад\n",
              "2021-01-01     БС        МР Москва\n",
              "2021-01-01     БС        МР Москва\n",
              "2021-01-01     БС        МР Москва\n",
              "2021-01-03     БС          МР Урал"
            ],
            "text/html": [
              "\n",
              "  <div id=\"df-af9ae6ba-9301-4d38-8cd4-c0aa06468c69\">\n",
              "    <div class=\"colab-df-container\">\n",
              "      <div>\n",
              "<style scoped>\n",
              "    .dataframe tbody tr th:only-of-type {\n",
              "        vertical-align: middle;\n",
              "    }\n",
              "\n",
              "    .dataframe tbody tr th {\n",
              "        vertical-align: top;\n",
              "    }\n",
              "\n",
              "    .dataframe thead th {\n",
              "        text-align: right;\n",
              "    }\n",
              "</style>\n",
              "<table border=\"1\" class=\"dataframe\">\n",
              "  <thead>\n",
              "    <tr style=\"text-align: right;\">\n",
              "      <th></th>\n",
              "      <th>Тип БС</th>\n",
              "      <th>exМР</th>\n",
              "    </tr>\n",
              "    <tr>\n",
              "      <th>Дата</th>\n",
              "      <th></th>\n",
              "      <th></th>\n",
              "    </tr>\n",
              "  </thead>\n",
              "  <tbody>\n",
              "    <tr>\n",
              "      <th>2021-01-01</th>\n",
              "      <td>БС</td>\n",
              "      <td>МР Северо-Запад</td>\n",
              "    </tr>\n",
              "    <tr>\n",
              "      <th>2021-01-01</th>\n",
              "      <td>БС</td>\n",
              "      <td>МР Москва</td>\n",
              "    </tr>\n",
              "    <tr>\n",
              "      <th>2021-01-01</th>\n",
              "      <td>БС</td>\n",
              "      <td>МР Москва</td>\n",
              "    </tr>\n",
              "    <tr>\n",
              "      <th>2021-01-01</th>\n",
              "      <td>БС</td>\n",
              "      <td>МР Москва</td>\n",
              "    </tr>\n",
              "    <tr>\n",
              "      <th>2021-01-03</th>\n",
              "      <td>БС</td>\n",
              "      <td>МР Урал</td>\n",
              "    </tr>\n",
              "  </tbody>\n",
              "</table>\n",
              "</div>\n",
              "      <button class=\"colab-df-convert\" onclick=\"convertToInteractive('df-af9ae6ba-9301-4d38-8cd4-c0aa06468c69')\"\n",
              "              title=\"Convert this dataframe to an interactive table.\"\n",
              "              style=\"display:none;\">\n",
              "        \n",
              "  <svg xmlns=\"http://www.w3.org/2000/svg\" height=\"24px\"viewBox=\"0 0 24 24\"\n",
              "       width=\"24px\">\n",
              "    <path d=\"M0 0h24v24H0V0z\" fill=\"none\"/>\n",
              "    <path d=\"M18.56 5.44l.94 2.06.94-2.06 2.06-.94-2.06-.94-.94-2.06-.94 2.06-2.06.94zm-11 1L8.5 8.5l.94-2.06 2.06-.94-2.06-.94L8.5 2.5l-.94 2.06-2.06.94zm10 10l.94 2.06.94-2.06 2.06-.94-2.06-.94-.94-2.06-.94 2.06-2.06.94z\"/><path d=\"M17.41 7.96l-1.37-1.37c-.4-.4-.92-.59-1.43-.59-.52 0-1.04.2-1.43.59L10.3 9.45l-7.72 7.72c-.78.78-.78 2.05 0 2.83L4 21.41c.39.39.9.59 1.41.59.51 0 1.02-.2 1.41-.59l7.78-7.78 2.81-2.81c.8-.78.8-2.07 0-2.86zM5.41 20L4 18.59l7.72-7.72 1.47 1.35L5.41 20z\"/>\n",
              "  </svg>\n",
              "      </button>\n",
              "      \n",
              "  <style>\n",
              "    .colab-df-container {\n",
              "      display:flex;\n",
              "      flex-wrap:wrap;\n",
              "      gap: 12px;\n",
              "    }\n",
              "\n",
              "    .colab-df-convert {\n",
              "      background-color: #E8F0FE;\n",
              "      border: none;\n",
              "      border-radius: 50%;\n",
              "      cursor: pointer;\n",
              "      display: none;\n",
              "      fill: #1967D2;\n",
              "      height: 32px;\n",
              "      padding: 0 0 0 0;\n",
              "      width: 32px;\n",
              "    }\n",
              "\n",
              "    .colab-df-convert:hover {\n",
              "      background-color: #E2EBFA;\n",
              "      box-shadow: 0px 1px 2px rgba(60, 64, 67, 0.3), 0px 1px 3px 1px rgba(60, 64, 67, 0.15);\n",
              "      fill: #174EA6;\n",
              "    }\n",
              "\n",
              "    [theme=dark] .colab-df-convert {\n",
              "      background-color: #3B4455;\n",
              "      fill: #D2E3FC;\n",
              "    }\n",
              "\n",
              "    [theme=dark] .colab-df-convert:hover {\n",
              "      background-color: #434B5C;\n",
              "      box-shadow: 0px 1px 3px 1px rgba(0, 0, 0, 0.15);\n",
              "      filter: drop-shadow(0px 1px 2px rgba(0, 0, 0, 0.3));\n",
              "      fill: #FFFFFF;\n",
              "    }\n",
              "  </style>\n",
              "\n",
              "      <script>\n",
              "        const buttonEl =\n",
              "          document.querySelector('#df-af9ae6ba-9301-4d38-8cd4-c0aa06468c69 button.colab-df-convert');\n",
              "        buttonEl.style.display =\n",
              "          google.colab.kernel.accessAllowed ? 'block' : 'none';\n",
              "\n",
              "        async function convertToInteractive(key) {\n",
              "          const element = document.querySelector('#df-af9ae6ba-9301-4d38-8cd4-c0aa06468c69');\n",
              "          const dataTable =\n",
              "            await google.colab.kernel.invokeFunction('convertToInteractive',\n",
              "                                                     [key], {});\n",
              "          if (!dataTable) return;\n",
              "\n",
              "          const docLinkHtml = 'Like what you see? Visit the ' +\n",
              "            '<a target=\"_blank\" href=https://colab.research.google.com/notebooks/data_table.ipynb>data table notebook</a>'\n",
              "            + ' to learn more about interactive tables.';\n",
              "          element.innerHTML = '';\n",
              "          dataTable['output_type'] = 'display_data';\n",
              "          await google.colab.output.renderOutput(dataTable, element);\n",
              "          const docLink = document.createElement('div');\n",
              "          docLink.innerHTML = docLinkHtml;\n",
              "          element.appendChild(docLink);\n",
              "        }\n",
              "      </script>\n",
              "    </div>\n",
              "  </div>\n",
              "  "
            ]
          },
          "metadata": {},
          "execution_count": 34
        }
      ]
    },
    {
      "cell_type": "code",
      "source": [
        "for i in [\"2021\"]:\n",
        "  for b in range(0, len(mn)):\n",
        "    if b == 0:\n",
        "      test = ras[ras.index <= pd.to_datetime(i+\"-\"+ mn[0]+\"-\"+\"31\", format='%Y-%m-%d') ]\n",
        "    else:\n",
        "      try:\n",
        "        q = pd.to_datetime(i+\"-\"+ mn[b-1]+\"-\"+\"31\", format='%Y-%m-%d') \n",
        "      except Exception:\n",
        "        try:\n",
        "          q = pd.to_datetime(i+\"-\"+ mn[b-1]+\"-\"+\"30\", format='%Y-%m-%d') \n",
        "        except Exception:\n",
        "          q = pd.to_datetime(i+\"-\"+ mn[b-1]+\"-\"+\"28\", format='%Y-%m-%d')\n",
        "      try:\n",
        "        r = pd.to_datetime(i+\"-\"+ mn[b]+\"-\"+\"31\", format='%Y-%m-%d')\n",
        "      except Exception:\n",
        "        try:\n",
        "          r = pd.to_datetime(i+\"-\"+ mn[b]+\"-\"+\"30\", format='%Y-%m-%d')\n",
        "        except Exception:\n",
        "          r = pd.to_datetime(i+\"-\"+ mn[b]+\"-\"+\"28\", format='%Y-%m-%d')\n",
        "      test = ras[q <= ras.index]\n",
        "      test = test[test.index < r]\n",
        "    if len(test) > 0:\n",
        "      vals_kr.append(len(test['Тип БС']))"
      ],
      "metadata": {
        "id": "XC87YFOSN_eH"
      },
      "execution_count": 35,
      "outputs": []
    },
    {
      "cell_type": "code",
      "source": [
        "for i in range(len(vals)-1):\n",
        "  vals_res[dates[i]] = (vals[i] / vals_kr[i])"
      ],
      "metadata": {
        "id": "XIG7DMSeOXGF"
      },
      "execution_count": 52,
      "outputs": []
    },
    {
      "cell_type": "code",
      "source": [
        "import statistics"
      ],
      "metadata": {
        "id": "nw7nV84Xzabl"
      },
      "execution_count": 58,
      "outputs": []
    },
    {
      "cell_type": "code",
      "source": [
        "statistics.mean(vals_res.values())"
      ],
      "metadata": {
        "colab": {
          "base_uri": "https://localhost:8080/"
        },
        "id": "Ad5AwQ4uy0aS",
        "outputId": "a2088215-4da7-422d-ed72-d60d769fa23f"
      },
      "execution_count": 59,
      "outputs": [
        {
          "output_type": "execute_result",
          "data": {
            "text/plain": [
              "14.15205557588831"
            ]
          },
          "metadata": {},
          "execution_count": 59
        }
      ]
    },
    {
      "cell_type": "markdown",
      "source": [
        "14.15205557588831"
      ],
      "metadata": {
        "id": "7u4B-cT7zxuP"
      }
    },
    {
      "cell_type": "markdown",
      "source": [
        "# Значения для каждого склада"
      ],
      "metadata": {
        "id": "SzRdxd0mu2aG"
      }
    },
    {
      "cell_type": "code",
      "source": [
        "for p in ['МР Москва', 'МР Северо-Запад', 'МР Урал']:\n",
        "  ras = pd.read_excel('/content/drive/My Drive/data/cleaned/Rashod.xlsx', index_col = 'Дата операции', parse_dates = ['Дата операции'])\n",
        "  if p == 'МР Москва':\n",
        "    ras = ras[ras[\"Код организации источника\"] == 101]\n",
        "  if p == 'МР Северо-Запад':\n",
        "    ras = ras[ras[\"Код организации источника\"] == 304]\n",
        "  if p == 'МР Урал':\n",
        "    ras = ras[ras[\"Код организации источника\"] == 702]\n",
        "  ras = ras.dropna()\n",
        "  dates = []\n",
        "  vals = []\n",
        "  mn = [\"01\", \"02\", \"03\", \"04\", \"05\", \"06\", \"07\", \"08\", \"09\", \"10\", \"11\", \"12\"]\n",
        "  for i in [\"2021\"]:\n",
        "    for b in range(0, len(mn)):\n",
        "      if b == 0:\n",
        "        test = ras[ras.index <= pd.to_datetime(i+\"-\"+ mn[0]+\"-\"+\"31\", format='%Y-%m-%d') ]\n",
        "      else:\n",
        "        try:\n",
        "          q = pd.to_datetime(i+\"-\"+ mn[b-1]+\"-\"+\"31\", format='%Y-%m-%d') \n",
        "        except Exception:\n",
        "          try:\n",
        "            q = pd.to_datetime(i+\"-\"+ mn[b-1]+\"-\"+\"30\", format='%Y-%m-%d') \n",
        "          except Exception:\n",
        "            q = pd.to_datetime(i+\"-\"+ mn[b-1]+\"-\"+\"28\", format='%Y-%m-%d')\n",
        "        try:\n",
        "          r = pd.to_datetime(i+\"-\"+ mn[b]+\"-\"+\"31\", format='%Y-%m-%d')\n",
        "        except Exception:\n",
        "          try:\n",
        "            r = pd.to_datetime(i+\"-\"+ mn[b]+\"-\"+\"30\", format='%Y-%m-%d')\n",
        "          except Exception:\n",
        "            r = pd.to_datetime(i+\"-\"+ mn[b]+\"-\"+\"28\", format='%Y-%m-%d')\n",
        "        test = ras[q <= ras.index]\n",
        "        test = test[test.index < r]\n",
        "      if len(test) > 0:\n",
        "        dates.append(i+\"-\"+ mn[b])\n",
        "        vals.append(test['Общий объем'].sum())\n",
        "  vals_kr = []\n",
        "  vals_res = {}\n",
        "  ras = pd.read_excel('/content/drive/My Drive/data/cleaned/baz_2021.xlsx', index_col = 'Дата', parse_dates = ['Дата'])\n",
        "  ras = ras[ras[\"exМР\"] == p]\n",
        "  for i in [\"2021\"]:\n",
        "    for b in range(0, len(mn)):\n",
        "      if b == 0:\n",
        "        test = ras[ras.index <= pd.to_datetime(i+\"-\"+ mn[0]+\"-\"+\"31\", format='%Y-%m-%d') ]\n",
        "      else:\n",
        "        try:\n",
        "          q = pd.to_datetime(i+\"-\"+ mn[b-1]+\"-\"+\"31\", format='%Y-%m-%d') \n",
        "        except Exception:\n",
        "          try:\n",
        "            q = pd.to_datetime(i+\"-\"+ mn[b-1]+\"-\"+\"30\", format='%Y-%m-%d') \n",
        "          except Exception:\n",
        "            q = pd.to_datetime(i+\"-\"+ mn[b-1]+\"-\"+\"28\", format='%Y-%m-%d')\n",
        "        try:\n",
        "          r = pd.to_datetime(i+\"-\"+ mn[b]+\"-\"+\"31\", format='%Y-%m-%d')\n",
        "        except Exception:\n",
        "          try:\n",
        "            r = pd.to_datetime(i+\"-\"+ mn[b]+\"-\"+\"30\", format='%Y-%m-%d')\n",
        "          except Exception:\n",
        "            r = pd.to_datetime(i+\"-\"+ mn[b]+\"-\"+\"28\", format='%Y-%m-%d')\n",
        "        test = ras[q <= ras.index]\n",
        "        test = test[test.index < r]\n",
        "      if len(test) > 0:\n",
        "        vals_kr.append(len(test['Тип БС']))\n",
        "  for i in range(len(vals)-1):\n",
        "    vals_res[dates[i]] = (vals[i] / vals_kr[i])\n",
        "  print(statistics.mean(vals_res.values()))\n"
      ],
      "metadata": {
        "colab": {
          "base_uri": "https://localhost:8080/"
        },
        "id": "rlyI7Sxbu7D3",
        "outputId": "97841bfc-dd64-4895-c47c-4ccdb306e94c"
      },
      "execution_count": 213,
      "outputs": [
        {
          "output_type": "stream",
          "name": "stdout",
          "text": [
            "9.105815696019702\n",
            "25.600395294891136\n",
            "13.149119098565656\n"
          ]
        }
      ]
    },
    {
      "cell_type": "code",
      "source": [
        "for i in [\"2021\"]:\n",
        "  for b in range(0, len(mn)):\n",
        "    if b == 0:\n",
        "      test = ras[ras.index <= pd.to_datetime(i+\"-\"+ mn[0]+\"-\"+\"31\", format='%Y-%m-%d') ]\n",
        "    else:\n",
        "      try:\n",
        "        q = pd.to_datetime(i+\"-\"+ mn[b-1]+\"-\"+\"31\", format='%Y-%m-%d') \n",
        "      except Exception:\n",
        "        try:\n",
        "          q = pd.to_datetime(i+\"-\"+ mn[b-1]+\"-\"+\"30\", format='%Y-%m-%d') \n",
        "        except Exception:\n",
        "          q = pd.to_datetime(i+\"-\"+ mn[b-1]+\"-\"+\"28\", format='%Y-%m-%d')\n",
        "      try:\n",
        "        r = pd.to_datetime(i+\"-\"+ mn[b]+\"-\"+\"31\", format='%Y-%m-%d')\n",
        "      except Exception:\n",
        "        try:\n",
        "          r = pd.to_datetime(i+\"-\"+ mn[b]+\"-\"+\"30\", format='%Y-%m-%d')\n",
        "        except Exception:\n",
        "          r = pd.to_datetime(i+\"-\"+ mn[b]+\"-\"+\"28\", format='%Y-%m-%d')\n",
        "      test = ras[q <= ras.index]\n",
        "      test = test[test.index < r]\n",
        "    if len(test) > 0:\n",
        "      dates.append(i+\"-\"+ mn[b])\n",
        "      vals.append(test['Общий объем'].sum())\n"
      ],
      "metadata": {
        "id": "Bxht8zFMvk5P"
      },
      "execution_count": null,
      "outputs": []
    },
    {
      "cell_type": "code",
      "source": [
        "sorted(dates)"
      ],
      "metadata": {
        "colab": {
          "base_uri": "https://localhost:8080/"
        },
        "outputId": "108582ee-4acf-44da-d4d9-f6b455760517",
        "id": "n6YTPaRcvk5P"
      },
      "execution_count": null,
      "outputs": [
        {
          "output_type": "execute_result",
          "data": {
            "text/plain": [
              "['2021-01',\n",
              " '2021-02',\n",
              " '2021-03',\n",
              " '2021-04',\n",
              " '2021-05',\n",
              " '2021-06',\n",
              " '2021-07',\n",
              " '2021-08',\n",
              " '2021-09']"
            ]
          },
          "metadata": {},
          "execution_count": 27
        }
      ]
    },
    {
      "cell_type": "code",
      "source": [
        "vals"
      ],
      "metadata": {
        "colab": {
          "base_uri": "https://localhost:8080/"
        },
        "outputId": "529ea491-ed0f-405a-dceb-374e2a36eafa",
        "id": "JyaJDGBXvk5Q"
      },
      "execution_count": null,
      "outputs": [
        {
          "output_type": "execute_result",
          "data": {
            "text/plain": [
              "[11935.538728923799,\n",
              " 2017.9060650891,\n",
              " 2270.0078150988998,\n",
              " 1979.3687719151999,\n",
              " 1444.2512619688,\n",
              " 2435.8360039004,\n",
              " 1396.7708019702,\n",
              " 4349.7942705819005,\n",
              " 319.3093809658001]"
            ]
          },
          "metadata": {},
          "execution_count": 40
        }
      ]
    },
    {
      "cell_type": "code",
      "source": [
        "vals_kr = []"
      ],
      "metadata": {
        "id": "m9uoRbEhvk5Q"
      },
      "execution_count": null,
      "outputs": []
    },
    {
      "cell_type": "code",
      "source": [
        "vals_kr"
      ],
      "metadata": {
        "colab": {
          "base_uri": "https://localhost:8080/"
        },
        "outputId": "8667c821-4f16-41a7-83e6-a9dc6de39f59",
        "id": "R1iXq301vk5Q"
      },
      "execution_count": null,
      "outputs": [
        {
          "output_type": "execute_result",
          "data": {
            "text/plain": [
              "[123, 394, 735, 976, 1219, 1407, 1573, 2035, 1058, 2117, 1959, 2491]"
            ]
          },
          "metadata": {},
          "execution_count": 60
        }
      ]
    },
    {
      "cell_type": "code",
      "source": [
        "vals_res = {}"
      ],
      "metadata": {
        "id": "rTVbUKRgvk5Q"
      },
      "execution_count": null,
      "outputs": []
    },
    {
      "cell_type": "code",
      "source": [
        "ras = pd.read_excel('/content/drive/My Drive/data/cleaned/baz_2021.xlsx', index_col = 'Дата', parse_dates = ['Дата'])\n",
        "ras = ras[ras[\"exМР\"] == i]\n",
        "ras.head()"
      ],
      "metadata": {
        "colab": {
          "base_uri": "https://localhost:8080/",
          "height": 237
        },
        "outputId": "f86c37b9-3da4-445f-b932-15230f968ec6",
        "id": "t2IBbCljvk5Q"
      },
      "execution_count": null,
      "outputs": [
        {
          "output_type": "execute_result",
          "data": {
            "text/plain": [
              "           Тип БС             exМР\n",
              "Дата                              \n",
              "2021-01-01     БС  МР Северо-Запад\n",
              "2021-01-01     БС        МР Москва\n",
              "2021-01-01     БС        МР Москва\n",
              "2021-01-01     БС        МР Москва\n",
              "2021-01-03     БС          МР Урал"
            ],
            "text/html": [
              "\n",
              "  <div id=\"df-af9ae6ba-9301-4d38-8cd4-c0aa06468c69\">\n",
              "    <div class=\"colab-df-container\">\n",
              "      <div>\n",
              "<style scoped>\n",
              "    .dataframe tbody tr th:only-of-type {\n",
              "        vertical-align: middle;\n",
              "    }\n",
              "\n",
              "    .dataframe tbody tr th {\n",
              "        vertical-align: top;\n",
              "    }\n",
              "\n",
              "    .dataframe thead th {\n",
              "        text-align: right;\n",
              "    }\n",
              "</style>\n",
              "<table border=\"1\" class=\"dataframe\">\n",
              "  <thead>\n",
              "    <tr style=\"text-align: right;\">\n",
              "      <th></th>\n",
              "      <th>Тип БС</th>\n",
              "      <th>exМР</th>\n",
              "    </tr>\n",
              "    <tr>\n",
              "      <th>Дата</th>\n",
              "      <th></th>\n",
              "      <th></th>\n",
              "    </tr>\n",
              "  </thead>\n",
              "  <tbody>\n",
              "    <tr>\n",
              "      <th>2021-01-01</th>\n",
              "      <td>БС</td>\n",
              "      <td>МР Северо-Запад</td>\n",
              "    </tr>\n",
              "    <tr>\n",
              "      <th>2021-01-01</th>\n",
              "      <td>БС</td>\n",
              "      <td>МР Москва</td>\n",
              "    </tr>\n",
              "    <tr>\n",
              "      <th>2021-01-01</th>\n",
              "      <td>БС</td>\n",
              "      <td>МР Москва</td>\n",
              "    </tr>\n",
              "    <tr>\n",
              "      <th>2021-01-01</th>\n",
              "      <td>БС</td>\n",
              "      <td>МР Москва</td>\n",
              "    </tr>\n",
              "    <tr>\n",
              "      <th>2021-01-03</th>\n",
              "      <td>БС</td>\n",
              "      <td>МР Урал</td>\n",
              "    </tr>\n",
              "  </tbody>\n",
              "</table>\n",
              "</div>\n",
              "      <button class=\"colab-df-convert\" onclick=\"convertToInteractive('df-af9ae6ba-9301-4d38-8cd4-c0aa06468c69')\"\n",
              "              title=\"Convert this dataframe to an interactive table.\"\n",
              "              style=\"display:none;\">\n",
              "        \n",
              "  <svg xmlns=\"http://www.w3.org/2000/svg\" height=\"24px\"viewBox=\"0 0 24 24\"\n",
              "       width=\"24px\">\n",
              "    <path d=\"M0 0h24v24H0V0z\" fill=\"none\"/>\n",
              "    <path d=\"M18.56 5.44l.94 2.06.94-2.06 2.06-.94-2.06-.94-.94-2.06-.94 2.06-2.06.94zm-11 1L8.5 8.5l.94-2.06 2.06-.94-2.06-.94L8.5 2.5l-.94 2.06-2.06.94zm10 10l.94 2.06.94-2.06 2.06-.94-2.06-.94-.94-2.06-.94 2.06-2.06.94z\"/><path d=\"M17.41 7.96l-1.37-1.37c-.4-.4-.92-.59-1.43-.59-.52 0-1.04.2-1.43.59L10.3 9.45l-7.72 7.72c-.78.78-.78 2.05 0 2.83L4 21.41c.39.39.9.59 1.41.59.51 0 1.02-.2 1.41-.59l7.78-7.78 2.81-2.81c.8-.78.8-2.07 0-2.86zM5.41 20L4 18.59l7.72-7.72 1.47 1.35L5.41 20z\"/>\n",
              "  </svg>\n",
              "      </button>\n",
              "      \n",
              "  <style>\n",
              "    .colab-df-container {\n",
              "      display:flex;\n",
              "      flex-wrap:wrap;\n",
              "      gap: 12px;\n",
              "    }\n",
              "\n",
              "    .colab-df-convert {\n",
              "      background-color: #E8F0FE;\n",
              "      border: none;\n",
              "      border-radius: 50%;\n",
              "      cursor: pointer;\n",
              "      display: none;\n",
              "      fill: #1967D2;\n",
              "      height: 32px;\n",
              "      padding: 0 0 0 0;\n",
              "      width: 32px;\n",
              "    }\n",
              "\n",
              "    .colab-df-convert:hover {\n",
              "      background-color: #E2EBFA;\n",
              "      box-shadow: 0px 1px 2px rgba(60, 64, 67, 0.3), 0px 1px 3px 1px rgba(60, 64, 67, 0.15);\n",
              "      fill: #174EA6;\n",
              "    }\n",
              "\n",
              "    [theme=dark] .colab-df-convert {\n",
              "      background-color: #3B4455;\n",
              "      fill: #D2E3FC;\n",
              "    }\n",
              "\n",
              "    [theme=dark] .colab-df-convert:hover {\n",
              "      background-color: #434B5C;\n",
              "      box-shadow: 0px 1px 3px 1px rgba(0, 0, 0, 0.15);\n",
              "      filter: drop-shadow(0px 1px 2px rgba(0, 0, 0, 0.3));\n",
              "      fill: #FFFFFF;\n",
              "    }\n",
              "  </style>\n",
              "\n",
              "      <script>\n",
              "        const buttonEl =\n",
              "          document.querySelector('#df-af9ae6ba-9301-4d38-8cd4-c0aa06468c69 button.colab-df-convert');\n",
              "        buttonEl.style.display =\n",
              "          google.colab.kernel.accessAllowed ? 'block' : 'none';\n",
              "\n",
              "        async function convertToInteractive(key) {\n",
              "          const element = document.querySelector('#df-af9ae6ba-9301-4d38-8cd4-c0aa06468c69');\n",
              "          const dataTable =\n",
              "            await google.colab.kernel.invokeFunction('convertToInteractive',\n",
              "                                                     [key], {});\n",
              "          if (!dataTable) return;\n",
              "\n",
              "          const docLinkHtml = 'Like what you see? Visit the ' +\n",
              "            '<a target=\"_blank\" href=https://colab.research.google.com/notebooks/data_table.ipynb>data table notebook</a>'\n",
              "            + ' to learn more about interactive tables.';\n",
              "          element.innerHTML = '';\n",
              "          dataTable['output_type'] = 'display_data';\n",
              "          await google.colab.output.renderOutput(dataTable, element);\n",
              "          const docLink = document.createElement('div');\n",
              "          docLink.innerHTML = docLinkHtml;\n",
              "          element.appendChild(docLink);\n",
              "        }\n",
              "      </script>\n",
              "    </div>\n",
              "  </div>\n",
              "  "
            ]
          },
          "metadata": {},
          "execution_count": 34
        }
      ]
    },
    {
      "cell_type": "code",
      "source": [
        "for i in [\"2021\"]:\n",
        "  for b in range(0, len(mn)):\n",
        "    if b == 0:\n",
        "      test = ras[ras.index <= pd.to_datetime(i+\"-\"+ mn[0]+\"-\"+\"31\", format='%Y-%m-%d') ]\n",
        "    else:\n",
        "      try:\n",
        "        q = pd.to_datetime(i+\"-\"+ mn[b-1]+\"-\"+\"31\", format='%Y-%m-%d') \n",
        "      except Exception:\n",
        "        try:\n",
        "          q = pd.to_datetime(i+\"-\"+ mn[b-1]+\"-\"+\"30\", format='%Y-%m-%d') \n",
        "        except Exception:\n",
        "          q = pd.to_datetime(i+\"-\"+ mn[b-1]+\"-\"+\"28\", format='%Y-%m-%d')\n",
        "      try:\n",
        "        r = pd.to_datetime(i+\"-\"+ mn[b]+\"-\"+\"31\", format='%Y-%m-%d')\n",
        "      except Exception:\n",
        "        try:\n",
        "          r = pd.to_datetime(i+\"-\"+ mn[b]+\"-\"+\"30\", format='%Y-%m-%d')\n",
        "        except Exception:\n",
        "          r = pd.to_datetime(i+\"-\"+ mn[b]+\"-\"+\"28\", format='%Y-%m-%d')\n",
        "      test = ras[q <= ras.index]\n",
        "      test = test[test.index < r]\n",
        "    if len(test) > 0:\n",
        "      vals_kr.append(len(test['Тип БС']))"
      ],
      "metadata": {
        "id": "XZrO7Nenvk5Q"
      },
      "execution_count": null,
      "outputs": []
    },
    {
      "cell_type": "code",
      "source": [
        "for i in range(len(vals)-1):\n",
        "  vals_res[dates[i]] = (vals[i] / vals_kr[i])"
      ],
      "metadata": {
        "id": "Xf_KRRROvk5Q"
      },
      "execution_count": null,
      "outputs": []
    },
    {
      "cell_type": "code",
      "source": [
        "statistics.mean(vals_res.values())"
      ],
      "metadata": {
        "colab": {
          "base_uri": "https://localhost:8080/"
        },
        "outputId": "a2088215-4da7-422d-ed72-d60d769fa23f",
        "id": "oaU-8fd_vk5R"
      },
      "execution_count": null,
      "outputs": [
        {
          "output_type": "execute_result",
          "data": {
            "text/plain": [
              "14.15205557588831"
            ]
          },
          "metadata": {},
          "execution_count": 59
        }
      ]
    },
    {
      "cell_type": "markdown",
      "source": [
        "# Построение по датасету ПланаБС"
      ],
      "metadata": {
        "id": "ig028A6nz3E3"
      }
    },
    {
      "cell_type": "code",
      "source": [
        "ras = pd.read_excel('/content/drive/My Drive/data/cleaned/baz_2021.xlsx', index_col = 'Дата', parse_dates = ['Дата'])\n",
        "ras.sort_index().head()"
      ],
      "metadata": {
        "colab": {
          "base_uri": "https://localhost:8080/",
          "height": 237
        },
        "id": "31pXzvuH0DUP",
        "outputId": "f3abda56-abf8-4e5a-e779-11c27c46bca7"
      },
      "execution_count": 165,
      "outputs": [
        {
          "output_type": "execute_result",
          "data": {
            "text/plain": [
              "           Тип БС             exМР\n",
              "Дата                              \n",
              "2021-01-01     БС  МР Северо-Запад\n",
              "2021-01-01     БС        МР Москва\n",
              "2021-01-01     БС        МР Москва\n",
              "2021-01-01     БС        МР Москва\n",
              "2021-01-03     БС          МР Урал"
            ],
            "text/html": [
              "\n",
              "  <div id=\"df-b3b2d300-9e7c-486c-a59e-f82b3b22115d\">\n",
              "    <div class=\"colab-df-container\">\n",
              "      <div>\n",
              "<style scoped>\n",
              "    .dataframe tbody tr th:only-of-type {\n",
              "        vertical-align: middle;\n",
              "    }\n",
              "\n",
              "    .dataframe tbody tr th {\n",
              "        vertical-align: top;\n",
              "    }\n",
              "\n",
              "    .dataframe thead th {\n",
              "        text-align: right;\n",
              "    }\n",
              "</style>\n",
              "<table border=\"1\" class=\"dataframe\">\n",
              "  <thead>\n",
              "    <tr style=\"text-align: right;\">\n",
              "      <th></th>\n",
              "      <th>Тип БС</th>\n",
              "      <th>exМР</th>\n",
              "    </tr>\n",
              "    <tr>\n",
              "      <th>Дата</th>\n",
              "      <th></th>\n",
              "      <th></th>\n",
              "    </tr>\n",
              "  </thead>\n",
              "  <tbody>\n",
              "    <tr>\n",
              "      <th>2021-01-01</th>\n",
              "      <td>БС</td>\n",
              "      <td>МР Северо-Запад</td>\n",
              "    </tr>\n",
              "    <tr>\n",
              "      <th>2021-01-01</th>\n",
              "      <td>БС</td>\n",
              "      <td>МР Москва</td>\n",
              "    </tr>\n",
              "    <tr>\n",
              "      <th>2021-01-01</th>\n",
              "      <td>БС</td>\n",
              "      <td>МР Москва</td>\n",
              "    </tr>\n",
              "    <tr>\n",
              "      <th>2021-01-01</th>\n",
              "      <td>БС</td>\n",
              "      <td>МР Москва</td>\n",
              "    </tr>\n",
              "    <tr>\n",
              "      <th>2021-01-03</th>\n",
              "      <td>БС</td>\n",
              "      <td>МР Урал</td>\n",
              "    </tr>\n",
              "  </tbody>\n",
              "</table>\n",
              "</div>\n",
              "      <button class=\"colab-df-convert\" onclick=\"convertToInteractive('df-b3b2d300-9e7c-486c-a59e-f82b3b22115d')\"\n",
              "              title=\"Convert this dataframe to an interactive table.\"\n",
              "              style=\"display:none;\">\n",
              "        \n",
              "  <svg xmlns=\"http://www.w3.org/2000/svg\" height=\"24px\"viewBox=\"0 0 24 24\"\n",
              "       width=\"24px\">\n",
              "    <path d=\"M0 0h24v24H0V0z\" fill=\"none\"/>\n",
              "    <path d=\"M18.56 5.44l.94 2.06.94-2.06 2.06-.94-2.06-.94-.94-2.06-.94 2.06-2.06.94zm-11 1L8.5 8.5l.94-2.06 2.06-.94-2.06-.94L8.5 2.5l-.94 2.06-2.06.94zm10 10l.94 2.06.94-2.06 2.06-.94-2.06-.94-.94-2.06-.94 2.06-2.06.94z\"/><path d=\"M17.41 7.96l-1.37-1.37c-.4-.4-.92-.59-1.43-.59-.52 0-1.04.2-1.43.59L10.3 9.45l-7.72 7.72c-.78.78-.78 2.05 0 2.83L4 21.41c.39.39.9.59 1.41.59.51 0 1.02-.2 1.41-.59l7.78-7.78 2.81-2.81c.8-.78.8-2.07 0-2.86zM5.41 20L4 18.59l7.72-7.72 1.47 1.35L5.41 20z\"/>\n",
              "  </svg>\n",
              "      </button>\n",
              "      \n",
              "  <style>\n",
              "    .colab-df-container {\n",
              "      display:flex;\n",
              "      flex-wrap:wrap;\n",
              "      gap: 12px;\n",
              "    }\n",
              "\n",
              "    .colab-df-convert {\n",
              "      background-color: #E8F0FE;\n",
              "      border: none;\n",
              "      border-radius: 50%;\n",
              "      cursor: pointer;\n",
              "      display: none;\n",
              "      fill: #1967D2;\n",
              "      height: 32px;\n",
              "      padding: 0 0 0 0;\n",
              "      width: 32px;\n",
              "    }\n",
              "\n",
              "    .colab-df-convert:hover {\n",
              "      background-color: #E2EBFA;\n",
              "      box-shadow: 0px 1px 2px rgba(60, 64, 67, 0.3), 0px 1px 3px 1px rgba(60, 64, 67, 0.15);\n",
              "      fill: #174EA6;\n",
              "    }\n",
              "\n",
              "    [theme=dark] .colab-df-convert {\n",
              "      background-color: #3B4455;\n",
              "      fill: #D2E3FC;\n",
              "    }\n",
              "\n",
              "    [theme=dark] .colab-df-convert:hover {\n",
              "      background-color: #434B5C;\n",
              "      box-shadow: 0px 1px 3px 1px rgba(0, 0, 0, 0.15);\n",
              "      filter: drop-shadow(0px 1px 2px rgba(0, 0, 0, 0.3));\n",
              "      fill: #FFFFFF;\n",
              "    }\n",
              "  </style>\n",
              "\n",
              "      <script>\n",
              "        const buttonEl =\n",
              "          document.querySelector('#df-b3b2d300-9e7c-486c-a59e-f82b3b22115d button.colab-df-convert');\n",
              "        buttonEl.style.display =\n",
              "          google.colab.kernel.accessAllowed ? 'block' : 'none';\n",
              "\n",
              "        async function convertToInteractive(key) {\n",
              "          const element = document.querySelector('#df-b3b2d300-9e7c-486c-a59e-f82b3b22115d');\n",
              "          const dataTable =\n",
              "            await google.colab.kernel.invokeFunction('convertToInteractive',\n",
              "                                                     [key], {});\n",
              "          if (!dataTable) return;\n",
              "\n",
              "          const docLinkHtml = 'Like what you see? Visit the ' +\n",
              "            '<a target=\"_blank\" href=https://colab.research.google.com/notebooks/data_table.ipynb>data table notebook</a>'\n",
              "            + ' to learn more about interactive tables.';\n",
              "          element.innerHTML = '';\n",
              "          dataTable['output_type'] = 'display_data';\n",
              "          await google.colab.output.renderOutput(dataTable, element);\n",
              "          const docLink = document.createElement('div');\n",
              "          docLink.innerHTML = docLinkHtml;\n",
              "          element.appendChild(docLink);\n",
              "        }\n",
              "      </script>\n",
              "    </div>\n",
              "  </div>\n",
              "  "
            ]
          },
          "metadata": {},
          "execution_count": 165
        }
      ]
    },
    {
      "cell_type": "code",
      "source": [
        "Basic_capacity = 20000\n",
        "start_date = ras.index[0] - timedelta(days=7)\n",
        "end_date = ras.index[len(ras)-1]\n",
        "dti = pd.date_range(start_date, periods=7+len(set(ras.index))-1, freq=\"D\")"
      ],
      "metadata": {
        "id": "7WV9ZJXj0Nc3"
      },
      "execution_count": 166,
      "outputs": []
    },
    {
      "cell_type": "code",
      "source": [
        "start_date"
      ],
      "metadata": {
        "colab": {
          "base_uri": "https://localhost:8080/"
        },
        "id": "rD96hITXU4nQ",
        "outputId": "f8d3e70b-759c-4639-fe06-eede5e747445"
      },
      "execution_count": 167,
      "outputs": [
        {
          "output_type": "execute_result",
          "data": {
            "text/plain": [
              "Timestamp('2020-12-25 00:00:00')"
            ]
          },
          "metadata": {},
          "execution_count": 167
        }
      ]
    },
    {
      "cell_type": "code",
      "source": [
        "value = []\n",
        "value_temp = []"
      ],
      "metadata": {
        "id": "o370cO2gTq7j"
      },
      "execution_count": 168,
      "outputs": []
    },
    {
      "cell_type": "code",
      "source": [
        "pogr = []\n",
        "shell = []\n",
        "otgr = []\n",
        "\n",
        "for i in dti:\n",
        "  tm_d = 0\n",
        "  if len(ras[ras.index == i]) != 0:\n",
        "    for b in otgr:\n",
        "       tm_d += (14.15205557588831/2)\n",
        "       Basic_capacity -= (14.15205557588831/2)\n",
        "    otgr = []\n",
        "    for b in range(len(shell)):\n",
        "      if shell[b] > 0:\n",
        "        shell[b]-=1\n",
        "      elif shell[b]==0:\n",
        "        otgr.append(14.15205557588831/2)\n",
        "        tm_d += (14.15205557588831/2)\n",
        "        Basic_capacity -= (14.15205557588831/2)\n",
        "        shell[b]-=1\n",
        "    for b in pogr:\n",
        "      tm_d += (14.15205557588831/2)\n",
        "      Basic_capacity+=(14.15205557588831/2)\n",
        "      shell.append(3)\n",
        "    pogr = []\n",
        "    for b in range(len(ras[ras.index == i])):\n",
        "      Basic_capacity+=(14.15205557588831/2)\n",
        "      pogr.append(14.15205557588831/2)\n",
        "      tm_d += (14.15205557588831/2)\n",
        "  value.append(Basic_capacity)\n",
        "  value_temp.append(tm_d)\n",
        "  tm_d = 0\n",
        "\n"
      ],
      "metadata": {
        "id": "Q_0TBVVb6nGb"
      },
      "execution_count": 169,
      "outputs": []
    },
    {
      "cell_type": "code",
      "source": [
        "value"
      ],
      "metadata": {
        "id": "OPLKDYwXcNnH"
      },
      "execution_count": null,
      "outputs": []
    },
    {
      "cell_type": "code",
      "source": [
        "value_temp"
      ],
      "metadata": {
        "id": "-5iBygzbf9FJ"
      },
      "execution_count": null,
      "outputs": []
    },
    {
      "cell_type": "code",
      "source": [
        "def to_pandas(value, value_temp, dti):\n",
        "  return pd.DataFrame([dti, value, value_temp], index=[\"Date\", \"Volume\", \"Volume_temp\"]).T"
      ],
      "metadata": {
        "id": "3qMAGdULjPq2"
      },
      "execution_count": 186,
      "outputs": []
    },
    {
      "cell_type": "code",
      "source": [
        "to_pandas(value, value_temp, dti).to_csv(\"result.csv\", sep=';')"
      ],
      "metadata": {
        "id": "SIzIb9hbjpgd"
      },
      "execution_count": 189,
      "outputs": []
    },
    {
      "cell_type": "markdown",
      "source": [
        "# Function PlanBS_to_Zagruzka"
      ],
      "metadata": {
        "id": "BHCs18snoAu8"
      }
    },
    {
      "cell_type": "code",
      "source": [
        "import pandas as pd\n",
        "import statistics\n",
        "def plan_to_zagr(dt, date=\"Date\", typ = 'exМР'):\n",
        "  dat = pd.read_excel(dt, index_col = date, parse_dates = [date])\n",
        "  dat = dat.sort_index()\n",
        "  rek = []\n",
        "  for i in ['МР Москва', 'МР Северо-Запад', 'МР Урал']:\n",
        "    if i == 'МР Москва':\n",
        "      Basic_capacity = 10800\n",
        "      k = 9.105815696019702\n",
        "    if i == 'МР Северо-Запад':\n",
        "      Basic_capacity = 8000\n",
        "      k = 25.600395294891136\n",
        "    if i == 'МР Урал':\n",
        "      Basic_capacity = 3000\n",
        "      k = 13.149119098565656\n",
        "    ras = dat[dat[typ] == i]\n",
        "    if len(ras) == 0:\n",
        "      continue\n",
        "    start_date = ras.index[0] - timedelta(days=7)\n",
        "    end_date = ras.index[len(ras)-1]\n",
        "    dti = pd.date_range(start_date, periods=7+len(set(ras.index))-1, freq=\"D\")\n",
        "    value = []\n",
        "    value_temp = []\n",
        "    pogr = []\n",
        "    shell = []\n",
        "    otgr = []\n",
        "    for i in dti:\n",
        "     tm_d = 0\n",
        "     if len(ras[ras.index == i]) != 0:\n",
        "       for b in otgr:\n",
        "          tm_d += (k/2)\n",
        "          Basic_capacity -= (k/2)\n",
        "       otgr = []\n",
        "       for b in range(len(shell)):\n",
        "         if shell[b] > 0:\n",
        "           shell[b]-=1\n",
        "         elif shell[b]==0:\n",
        "           otgr.append(k/2)\n",
        "           tm_d += (k/2)\n",
        "           Basic_capacity -= (k/2)\n",
        "           shell[b]-=1\n",
        "       for b in pogr:\n",
        "         tm_d += (k/2)\n",
        "         Basic_capacity+=(k/2)\n",
        "         shell.append(3)\n",
        "       pogr = []\n",
        "       for b in range(len(ras[ras.index == i])):\n",
        "         Basic_capacity+=(k/2)\n",
        "         pogr.append(k/2)\n",
        "         tm_d += (k/2)\n",
        "     value.append(Basic_capacity)\n",
        "     value_temp.append(tm_d)\n",
        "     tm_d = 0\n",
        "    rek.append(to_pandas(value, value_temp, dti))\n",
        "  return rek"
      ],
      "metadata": {
        "id": "ggExoQ0boLxU"
      },
      "execution_count": 214,
      "outputs": []
    },
    {
      "cell_type": "code",
      "source": [
        "results = plan_to_zagr('/content/drive/My Drive/data/cleaned/baz_2021.xlsx', date='Дата')"
      ],
      "metadata": {
        "id": "UXpQOfFQo7D5"
      },
      "execution_count": 220,
      "outputs": []
    },
    {
      "cell_type": "code",
      "source": [
        "results[0]"
      ],
      "metadata": {
        "colab": {
          "base_uri": "https://localhost:8080/",
          "height": 423
        },
        "id": "v6r0IjKVswBK",
        "outputId": "1a2e7a84-2e2c-41d8-aa1b-38d9bc11c7ed"
      },
      "execution_count": 221,
      "outputs": [
        {
          "output_type": "execute_result",
          "data": {
            "text/plain": [
              "          Date        Volume Volume_temp\n",
              "0   2020-12-25         10800           0\n",
              "1   2020-12-26         10800           0\n",
              "2   2020-12-27         10800           0\n",
              "3   2020-12-28         10800           0\n",
              "4   2020-12-29         10800           0\n",
              "..         ...           ...         ...\n",
              "258 2021-09-09   10968.45759  186.669222\n",
              "259 2021-09-10  10963.904683   86.505249\n",
              "260 2021-09-11  10963.904683           0\n",
              "261 2021-09-12  10963.904683           0\n",
              "262 2021-09-13  10963.904683           0\n",
              "\n",
              "[263 rows x 3 columns]"
            ],
            "text/html": [
              "\n",
              "  <div id=\"df-7b9a6af7-ca2d-4af9-b70a-e6fe7bad48fc\">\n",
              "    <div class=\"colab-df-container\">\n",
              "      <div>\n",
              "<style scoped>\n",
              "    .dataframe tbody tr th:only-of-type {\n",
              "        vertical-align: middle;\n",
              "    }\n",
              "\n",
              "    .dataframe tbody tr th {\n",
              "        vertical-align: top;\n",
              "    }\n",
              "\n",
              "    .dataframe thead th {\n",
              "        text-align: right;\n",
              "    }\n",
              "</style>\n",
              "<table border=\"1\" class=\"dataframe\">\n",
              "  <thead>\n",
              "    <tr style=\"text-align: right;\">\n",
              "      <th></th>\n",
              "      <th>Date</th>\n",
              "      <th>Volume</th>\n",
              "      <th>Volume_temp</th>\n",
              "    </tr>\n",
              "  </thead>\n",
              "  <tbody>\n",
              "    <tr>\n",
              "      <th>0</th>\n",
              "      <td>2020-12-25</td>\n",
              "      <td>10800</td>\n",
              "      <td>0</td>\n",
              "    </tr>\n",
              "    <tr>\n",
              "      <th>1</th>\n",
              "      <td>2020-12-26</td>\n",
              "      <td>10800</td>\n",
              "      <td>0</td>\n",
              "    </tr>\n",
              "    <tr>\n",
              "      <th>2</th>\n",
              "      <td>2020-12-27</td>\n",
              "      <td>10800</td>\n",
              "      <td>0</td>\n",
              "    </tr>\n",
              "    <tr>\n",
              "      <th>3</th>\n",
              "      <td>2020-12-28</td>\n",
              "      <td>10800</td>\n",
              "      <td>0</td>\n",
              "    </tr>\n",
              "    <tr>\n",
              "      <th>4</th>\n",
              "      <td>2020-12-29</td>\n",
              "      <td>10800</td>\n",
              "      <td>0</td>\n",
              "    </tr>\n",
              "    <tr>\n",
              "      <th>...</th>\n",
              "      <td>...</td>\n",
              "      <td>...</td>\n",
              "      <td>...</td>\n",
              "    </tr>\n",
              "    <tr>\n",
              "      <th>258</th>\n",
              "      <td>2021-09-09</td>\n",
              "      <td>10968.45759</td>\n",
              "      <td>186.669222</td>\n",
              "    </tr>\n",
              "    <tr>\n",
              "      <th>259</th>\n",
              "      <td>2021-09-10</td>\n",
              "      <td>10963.904683</td>\n",
              "      <td>86.505249</td>\n",
              "    </tr>\n",
              "    <tr>\n",
              "      <th>260</th>\n",
              "      <td>2021-09-11</td>\n",
              "      <td>10963.904683</td>\n",
              "      <td>0</td>\n",
              "    </tr>\n",
              "    <tr>\n",
              "      <th>261</th>\n",
              "      <td>2021-09-12</td>\n",
              "      <td>10963.904683</td>\n",
              "      <td>0</td>\n",
              "    </tr>\n",
              "    <tr>\n",
              "      <th>262</th>\n",
              "      <td>2021-09-13</td>\n",
              "      <td>10963.904683</td>\n",
              "      <td>0</td>\n",
              "    </tr>\n",
              "  </tbody>\n",
              "</table>\n",
              "<p>263 rows × 3 columns</p>\n",
              "</div>\n",
              "      <button class=\"colab-df-convert\" onclick=\"convertToInteractive('df-7b9a6af7-ca2d-4af9-b70a-e6fe7bad48fc')\"\n",
              "              title=\"Convert this dataframe to an interactive table.\"\n",
              "              style=\"display:none;\">\n",
              "        \n",
              "  <svg xmlns=\"http://www.w3.org/2000/svg\" height=\"24px\"viewBox=\"0 0 24 24\"\n",
              "       width=\"24px\">\n",
              "    <path d=\"M0 0h24v24H0V0z\" fill=\"none\"/>\n",
              "    <path d=\"M18.56 5.44l.94 2.06.94-2.06 2.06-.94-2.06-.94-.94-2.06-.94 2.06-2.06.94zm-11 1L8.5 8.5l.94-2.06 2.06-.94-2.06-.94L8.5 2.5l-.94 2.06-2.06.94zm10 10l.94 2.06.94-2.06 2.06-.94-2.06-.94-.94-2.06-.94 2.06-2.06.94z\"/><path d=\"M17.41 7.96l-1.37-1.37c-.4-.4-.92-.59-1.43-.59-.52 0-1.04.2-1.43.59L10.3 9.45l-7.72 7.72c-.78.78-.78 2.05 0 2.83L4 21.41c.39.39.9.59 1.41.59.51 0 1.02-.2 1.41-.59l7.78-7.78 2.81-2.81c.8-.78.8-2.07 0-2.86zM5.41 20L4 18.59l7.72-7.72 1.47 1.35L5.41 20z\"/>\n",
              "  </svg>\n",
              "      </button>\n",
              "      \n",
              "  <style>\n",
              "    .colab-df-container {\n",
              "      display:flex;\n",
              "      flex-wrap:wrap;\n",
              "      gap: 12px;\n",
              "    }\n",
              "\n",
              "    .colab-df-convert {\n",
              "      background-color: #E8F0FE;\n",
              "      border: none;\n",
              "      border-radius: 50%;\n",
              "      cursor: pointer;\n",
              "      display: none;\n",
              "      fill: #1967D2;\n",
              "      height: 32px;\n",
              "      padding: 0 0 0 0;\n",
              "      width: 32px;\n",
              "    }\n",
              "\n",
              "    .colab-df-convert:hover {\n",
              "      background-color: #E2EBFA;\n",
              "      box-shadow: 0px 1px 2px rgba(60, 64, 67, 0.3), 0px 1px 3px 1px rgba(60, 64, 67, 0.15);\n",
              "      fill: #174EA6;\n",
              "    }\n",
              "\n",
              "    [theme=dark] .colab-df-convert {\n",
              "      background-color: #3B4455;\n",
              "      fill: #D2E3FC;\n",
              "    }\n",
              "\n",
              "    [theme=dark] .colab-df-convert:hover {\n",
              "      background-color: #434B5C;\n",
              "      box-shadow: 0px 1px 3px 1px rgba(0, 0, 0, 0.15);\n",
              "      filter: drop-shadow(0px 1px 2px rgba(0, 0, 0, 0.3));\n",
              "      fill: #FFFFFF;\n",
              "    }\n",
              "  </style>\n",
              "\n",
              "      <script>\n",
              "        const buttonEl =\n",
              "          document.querySelector('#df-7b9a6af7-ca2d-4af9-b70a-e6fe7bad48fc button.colab-df-convert');\n",
              "        buttonEl.style.display =\n",
              "          google.colab.kernel.accessAllowed ? 'block' : 'none';\n",
              "\n",
              "        async function convertToInteractive(key) {\n",
              "          const element = document.querySelector('#df-7b9a6af7-ca2d-4af9-b70a-e6fe7bad48fc');\n",
              "          const dataTable =\n",
              "            await google.colab.kernel.invokeFunction('convertToInteractive',\n",
              "                                                     [key], {});\n",
              "          if (!dataTable) return;\n",
              "\n",
              "          const docLinkHtml = 'Like what you see? Visit the ' +\n",
              "            '<a target=\"_blank\" href=https://colab.research.google.com/notebooks/data_table.ipynb>data table notebook</a>'\n",
              "            + ' to learn more about interactive tables.';\n",
              "          element.innerHTML = '';\n",
              "          dataTable['output_type'] = 'display_data';\n",
              "          await google.colab.output.renderOutput(dataTable, element);\n",
              "          const docLink = document.createElement('div');\n",
              "          docLink.innerHTML = docLinkHtml;\n",
              "          element.appendChild(docLink);\n",
              "        }\n",
              "      </script>\n",
              "    </div>\n",
              "  </div>\n",
              "  "
            ]
          },
          "metadata": {},
          "execution_count": 221
        }
      ]
    },
    {
      "cell_type": "markdown",
      "source": [
        "# Time series test"
      ],
      "metadata": {
        "id": "sKwH4vcF8O4f"
      }
    },
    {
      "cell_type": "code",
      "source": [
        "data1 = pd.read_excel('/content/drive/My Drive/data/volume.xlsx', index_col = 'Date', parse_dates = ['Date'])\n",
        "data1 = data1.dropna()\n",
        "data1.head()"
      ],
      "metadata": {
        "colab": {
          "base_uri": "https://localhost:8080/",
          "height": 237
        },
        "id": "aZE9oS-E8IkY",
        "outputId": "a53f1c36-0dcb-4b27-c7e3-f109dfd6bb2f"
      },
      "execution_count": 90,
      "outputs": [
        {
          "output_type": "execute_result",
          "data": {
            "text/plain": [
              "                  Value\n",
              "Date                   \n",
              "2017-01-01  8025.379166\n",
              "2017-01-02  8025.379166\n",
              "2017-01-03  8025.379166\n",
              "2017-01-04  8025.379166\n",
              "2017-01-05  8025.379166"
            ],
            "text/html": [
              "\n",
              "  <div id=\"df-7c8d8b77-e346-4c9b-b047-f2cdb4872f15\">\n",
              "    <div class=\"colab-df-container\">\n",
              "      <div>\n",
              "<style scoped>\n",
              "    .dataframe tbody tr th:only-of-type {\n",
              "        vertical-align: middle;\n",
              "    }\n",
              "\n",
              "    .dataframe tbody tr th {\n",
              "        vertical-align: top;\n",
              "    }\n",
              "\n",
              "    .dataframe thead th {\n",
              "        text-align: right;\n",
              "    }\n",
              "</style>\n",
              "<table border=\"1\" class=\"dataframe\">\n",
              "  <thead>\n",
              "    <tr style=\"text-align: right;\">\n",
              "      <th></th>\n",
              "      <th>Value</th>\n",
              "    </tr>\n",
              "    <tr>\n",
              "      <th>Date</th>\n",
              "      <th></th>\n",
              "    </tr>\n",
              "  </thead>\n",
              "  <tbody>\n",
              "    <tr>\n",
              "      <th>2017-01-01</th>\n",
              "      <td>8025.379166</td>\n",
              "    </tr>\n",
              "    <tr>\n",
              "      <th>2017-01-02</th>\n",
              "      <td>8025.379166</td>\n",
              "    </tr>\n",
              "    <tr>\n",
              "      <th>2017-01-03</th>\n",
              "      <td>8025.379166</td>\n",
              "    </tr>\n",
              "    <tr>\n",
              "      <th>2017-01-04</th>\n",
              "      <td>8025.379166</td>\n",
              "    </tr>\n",
              "    <tr>\n",
              "      <th>2017-01-05</th>\n",
              "      <td>8025.379166</td>\n",
              "    </tr>\n",
              "  </tbody>\n",
              "</table>\n",
              "</div>\n",
              "      <button class=\"colab-df-convert\" onclick=\"convertToInteractive('df-7c8d8b77-e346-4c9b-b047-f2cdb4872f15')\"\n",
              "              title=\"Convert this dataframe to an interactive table.\"\n",
              "              style=\"display:none;\">\n",
              "        \n",
              "  <svg xmlns=\"http://www.w3.org/2000/svg\" height=\"24px\"viewBox=\"0 0 24 24\"\n",
              "       width=\"24px\">\n",
              "    <path d=\"M0 0h24v24H0V0z\" fill=\"none\"/>\n",
              "    <path d=\"M18.56 5.44l.94 2.06.94-2.06 2.06-.94-2.06-.94-.94-2.06-.94 2.06-2.06.94zm-11 1L8.5 8.5l.94-2.06 2.06-.94-2.06-.94L8.5 2.5l-.94 2.06-2.06.94zm10 10l.94 2.06.94-2.06 2.06-.94-2.06-.94-.94-2.06-.94 2.06-2.06.94z\"/><path d=\"M17.41 7.96l-1.37-1.37c-.4-.4-.92-.59-1.43-.59-.52 0-1.04.2-1.43.59L10.3 9.45l-7.72 7.72c-.78.78-.78 2.05 0 2.83L4 21.41c.39.39.9.59 1.41.59.51 0 1.02-.2 1.41-.59l7.78-7.78 2.81-2.81c.8-.78.8-2.07 0-2.86zM5.41 20L4 18.59l7.72-7.72 1.47 1.35L5.41 20z\"/>\n",
              "  </svg>\n",
              "      </button>\n",
              "      \n",
              "  <style>\n",
              "    .colab-df-container {\n",
              "      display:flex;\n",
              "      flex-wrap:wrap;\n",
              "      gap: 12px;\n",
              "    }\n",
              "\n",
              "    .colab-df-convert {\n",
              "      background-color: #E8F0FE;\n",
              "      border: none;\n",
              "      border-radius: 50%;\n",
              "      cursor: pointer;\n",
              "      display: none;\n",
              "      fill: #1967D2;\n",
              "      height: 32px;\n",
              "      padding: 0 0 0 0;\n",
              "      width: 32px;\n",
              "    }\n",
              "\n",
              "    .colab-df-convert:hover {\n",
              "      background-color: #E2EBFA;\n",
              "      box-shadow: 0px 1px 2px rgba(60, 64, 67, 0.3), 0px 1px 3px 1px rgba(60, 64, 67, 0.15);\n",
              "      fill: #174EA6;\n",
              "    }\n",
              "\n",
              "    [theme=dark] .colab-df-convert {\n",
              "      background-color: #3B4455;\n",
              "      fill: #D2E3FC;\n",
              "    }\n",
              "\n",
              "    [theme=dark] .colab-df-convert:hover {\n",
              "      background-color: #434B5C;\n",
              "      box-shadow: 0px 1px 3px 1px rgba(0, 0, 0, 0.15);\n",
              "      filter: drop-shadow(0px 1px 2px rgba(0, 0, 0, 0.3));\n",
              "      fill: #FFFFFF;\n",
              "    }\n",
              "  </style>\n",
              "\n",
              "      <script>\n",
              "        const buttonEl =\n",
              "          document.querySelector('#df-7c8d8b77-e346-4c9b-b047-f2cdb4872f15 button.colab-df-convert');\n",
              "        buttonEl.style.display =\n",
              "          google.colab.kernel.accessAllowed ? 'block' : 'none';\n",
              "\n",
              "        async function convertToInteractive(key) {\n",
              "          const element = document.querySelector('#df-7c8d8b77-e346-4c9b-b047-f2cdb4872f15');\n",
              "          const dataTable =\n",
              "            await google.colab.kernel.invokeFunction('convertToInteractive',\n",
              "                                                     [key], {});\n",
              "          if (!dataTable) return;\n",
              "\n",
              "          const docLinkHtml = 'Like what you see? Visit the ' +\n",
              "            '<a target=\"_blank\" href=https://colab.research.google.com/notebooks/data_table.ipynb>data table notebook</a>'\n",
              "            + ' to learn more about interactive tables.';\n",
              "          element.innerHTML = '';\n",
              "          dataTable['output_type'] = 'display_data';\n",
              "          await google.colab.output.renderOutput(dataTable, element);\n",
              "          const docLink = document.createElement('div');\n",
              "          docLink.innerHTML = docLinkHtml;\n",
              "          element.appendChild(docLink);\n",
              "        }\n",
              "      </script>\n",
              "    </div>\n",
              "  </div>\n",
              "  "
            ]
          },
          "metadata": {},
          "execution_count": 90
        }
      ]
    },
    {
      "cell_type": "code",
      "source": [
        "data1 = pd.read_excel('/content/drive/My Drive/data/volume.xlsx', parse_dates = ['Date'])\n",
        "data1 = data1.dropna()\n",
        "data1.head()"
      ],
      "metadata": {
        "id": "AaCcIgVbFOR7"
      },
      "execution_count": null,
      "outputs": []
    },
    {
      "cell_type": "code",
      "source": [
        "train = data1[data1.index < pd.to_datetime(\"2020-06-01\", format='%Y-%m-%d')]\n",
        "test = data1[data1.index > pd.to_datetime(\"2020-06-01\", format='%Y-%m-%d')]\n",
        "\n",
        "plt.plot(train, color = \"black\")\n",
        "plt.plot(test, color = \"red\")\n",
        "plt.ylabel('BTC Price')\n",
        "plt.xlabel('Date')\n",
        "plt.xticks(rotation=45)\n",
        "plt.title(\"Train/Test split for BTC Data\")\n",
        "plt.show()"
      ],
      "metadata": {
        "colab": {
          "base_uri": "https://localhost:8080/",
          "height": 322
        },
        "id": "pGnDozJYF4hi",
        "outputId": "7ef4a5c5-212e-47ac-965d-a631491bef0f"
      },
      "execution_count": 91,
      "outputs": [
        {
          "output_type": "display_data",
          "data": {
            "text/plain": [
              "<Figure size 432x288 with 1 Axes>"
            ],
            "image/png": "[encoded data removed]"
          },
          "metadata": {
            "needs_background": "light"
          }
        }
      ]
    },
    {
      "cell_type": "code",
      "source": [
        "from statsmodels.tsa.statespace.sarimax import SARIMAX"
      ],
      "metadata": {
        "id": "df0LMKhrGSdP"
      },
      "execution_count": 6,
      "outputs": []
    },
    {
      "cell_type": "code",
      "source": [
        "y = train['Value']"
      ],
      "metadata": {
        "id": "8hPsA_IdGWav"
      },
      "execution_count": 92,
      "outputs": []
    },
    {
      "cell_type": "code",
      "source": [
        "ARMAmodel = SARIMAX(y, order = (1, 0, 1))\n",
        "ARMAmodel = ARMAmodel.fit()"
      ],
      "metadata": {
        "id": "JxKTPRi3GaS-"
      },
      "execution_count": null,
      "outputs": []
    },
    {
      "cell_type": "code",
      "source": [
        "y_pred = ARMAmodel.get_forecast(len(test.index))\n",
        "y_pred_df = y_pred.conf_int(alpha = 0.05) \n",
        "y_pred_df[\"Predictions\"] = ARMAmodel.predict(start = y_pred_df.index[0], end = y_pred_df.index[-1])\n",
        "y_pred_df.index = test.index\n",
        "y_pred_out = y_pred_df[\"Predictions\"] "
      ],
      "metadata": {
        "colab": {
          "base_uri": "https://localhost:8080/"
        },
        "id": "n27kIsc_GgqA",
        "outputId": "685f616d-fe1d-41ac-eb1a-ef1d5a20e499"
      },
      "execution_count": 113,
      "outputs": [
        {
          "output_type": "stream",
          "name": "stderr",
          "text": [
            "/usr/local/lib/python3.7/dist-packages/statsmodels/tsa/base/tsa_model.py:379: ValueWarning:\n",
            "\n",
            "No supported index is available. Prediction results will be given with an integer index beginning at `start`.\n",
            "\n",
            "/usr/local/lib/python3.7/dist-packages/statsmodels/tsa/base/tsa_model.py:379: ValueWarning:\n",
            "\n",
            "No supported index is available. Prediction results will be given with an integer index beginning at `start`.\n",
            "\n"
          ]
        }
      ]
    },
    {
      "cell_type": "code",
      "source": [
        "plt.plot(y_pred_out, color='green', label = 'Predictions')\n",
        "plt.legend()"
      ],
      "metadata": {
        "id": "4UVpNxvyGiQ1"
      },
      "execution_count": null,
      "outputs": []
    },
    {
      "cell_type": "code",
      "source": [
        "import numpy as np\n",
        "from sklearn.metrics import mean_squared_error\n",
        "\n",
        "arma_rmse = np.sqrt(mean_squared_error(test[\"Value\"].values, y_pred_df[\"Predictions\"]))\n",
        "print(\"RMSE: \",arma_rmse)"
      ],
      "metadata": {
        "id": "b-aowO-yGrZz"
      },
      "execution_count": null,
      "outputs": []
    },
    {
      "cell_type": "code",
      "source": [
        "from statsmodels.tsa.arima.model import ARIMA"
      ],
      "metadata": {
        "id": "qvTY0nI1Gx98"
      },
      "execution_count": 10,
      "outputs": []
    },
    {
      "cell_type": "code",
      "source": [
        "test2 = pd.read_excel('/content/drive/My Drive/data/test.xlsx', index_col = 'Date',parse_dates = ['Date'])\n",
        "test2 = test2.dropna()\n",
        "test2.head()"
      ],
      "metadata": {
        "colab": {
          "base_uri": "https://localhost:8080/",
          "height": 237
        },
        "id": "uOdkudKWc93S",
        "outputId": "6b7f10cd-db4f-47a2-91f3-ba64958ba1b0"
      },
      "execution_count": 87,
      "outputs": [
        {
          "output_type": "execute_result",
          "data": {
            "text/plain": [
              "                  Value\n",
              "Date                   \n",
              "2021-01-01  20097.89116\n",
              "2021-01-02  20097.89116\n",
              "2021-01-03  20097.89116\n",
              "2021-01-04  20097.89116\n",
              "2021-01-05  20097.89116"
            ],
            "text/html": [
              "\n",
              "  <div id=\"df-9e2c468c-f4f2-4185-9e40-dc94d8c52696\">\n",
              "    <div class=\"colab-df-container\">\n",
              "      <div>\n",
              "<style scoped>\n",
              "    .dataframe tbody tr th:only-of-type {\n",
              "        vertical-align: middle;\n",
              "    }\n",
              "\n",
              "    .dataframe tbody tr th {\n",
              "        vertical-align: top;\n",
              "    }\n",
              "\n",
              "    .dataframe thead th {\n",
              "        text-align: right;\n",
              "    }\n",
              "</style>\n",
              "<table border=\"1\" class=\"dataframe\">\n",
              "  <thead>\n",
              "    <tr style=\"text-align: right;\">\n",
              "      <th></th>\n",
              "      <th>Value</th>\n",
              "    </tr>\n",
              "    <tr>\n",
              "      <th>Date</th>\n",
              "      <th></th>\n",
              "    </tr>\n",
              "  </thead>\n",
              "  <tbody>\n",
              "    <tr>\n",
              "      <th>2021-01-01</th>\n",
              "      <td>20097.89116</td>\n",
              "    </tr>\n",
              "    <tr>\n",
              "      <th>2021-01-02</th>\n",
              "      <td>20097.89116</td>\n",
              "    </tr>\n",
              "    <tr>\n",
              "      <th>2021-01-03</th>\n",
              "      <td>20097.89116</td>\n",
              "    </tr>\n",
              "    <tr>\n",
              "      <th>2021-01-04</th>\n",
              "      <td>20097.89116</td>\n",
              "    </tr>\n",
              "    <tr>\n",
              "      <th>2021-01-05</th>\n",
              "      <td>20097.89116</td>\n",
              "    </tr>\n",
              "  </tbody>\n",
              "</table>\n",
              "</div>\n",
              "      <button class=\"colab-df-convert\" onclick=\"convertToInteractive('df-9e2c468c-f4f2-4185-9e40-dc94d8c52696')\"\n",
              "              title=\"Convert this dataframe to an interactive table.\"\n",
              "              style=\"display:none;\">\n",
              "        \n",
              "  <svg xmlns=\"http://www.w3.org/2000/svg\" height=\"24px\"viewBox=\"0 0 24 24\"\n",
              "       width=\"24px\">\n",
              "    <path d=\"M0 0h24v24H0V0z\" fill=\"none\"/>\n",
              "    <path d=\"M18.56 5.44l.94 2.06.94-2.06 2.06-.94-2.06-.94-.94-2.06-.94 2.06-2.06.94zm-11 1L8.5 8.5l.94-2.06 2.06-.94-2.06-.94L8.5 2.5l-.94 2.06-2.06.94zm10 10l.94 2.06.94-2.06 2.06-.94-2.06-.94-.94-2.06-.94 2.06-2.06.94z\"/><path d=\"M17.41 7.96l-1.37-1.37c-.4-.4-.92-.59-1.43-.59-.52 0-1.04.2-1.43.59L10.3 9.45l-7.72 7.72c-.78.78-.78 2.05 0 2.83L4 21.41c.39.39.9.59 1.41.59.51 0 1.02-.2 1.41-.59l7.78-7.78 2.81-2.81c.8-.78.8-2.07 0-2.86zM5.41 20L4 18.59l7.72-7.72 1.47 1.35L5.41 20z\"/>\n",
              "  </svg>\n",
              "      </button>\n",
              "      \n",
              "  <style>\n",
              "    .colab-df-container {\n",
              "      display:flex;\n",
              "      flex-wrap:wrap;\n",
              "      gap: 12px;\n",
              "    }\n",
              "\n",
              "    .colab-df-convert {\n",
              "      background-color: #E8F0FE;\n",
              "      border: none;\n",
              "      border-radius: 50%;\n",
              "      cursor: pointer;\n",
              "      display: none;\n",
              "      fill: #1967D2;\n",
              "      height: 32px;\n",
              "      padding: 0 0 0 0;\n",
              "      width: 32px;\n",
              "    }\n",
              "\n",
              "    .colab-df-convert:hover {\n",
              "      background-color: #E2EBFA;\n",
              "      box-shadow: 0px 1px 2px rgba(60, 64, 67, 0.3), 0px 1px 3px 1px rgba(60, 64, 67, 0.15);\n",
              "      fill: #174EA6;\n",
              "    }\n",
              "\n",
              "    [theme=dark] .colab-df-convert {\n",
              "      background-color: #3B4455;\n",
              "      fill: #D2E3FC;\n",
              "    }\n",
              "\n",
              "    [theme=dark] .colab-df-convert:hover {\n",
              "      background-color: #434B5C;\n",
              "      box-shadow: 0px 1px 3px 1px rgba(0, 0, 0, 0.15);\n",
              "      filter: drop-shadow(0px 1px 2px rgba(0, 0, 0, 0.3));\n",
              "      fill: #FFFFFF;\n",
              "    }\n",
              "  </style>\n",
              "\n",
              "      <script>\n",
              "        const buttonEl =\n",
              "          document.querySelector('#df-9e2c468c-f4f2-4185-9e40-dc94d8c52696 button.colab-df-convert');\n",
              "        buttonEl.style.display =\n",
              "          google.colab.kernel.accessAllowed ? 'block' : 'none';\n",
              "\n",
              "        async function convertToInteractive(key) {\n",
              "          const element = document.querySelector('#df-9e2c468c-f4f2-4185-9e40-dc94d8c52696');\n",
              "          const dataTable =\n",
              "            await google.colab.kernel.invokeFunction('convertToInteractive',\n",
              "                                                     [key], {});\n",
              "          if (!dataTable) return;\n",
              "\n",
              "          const docLinkHtml = 'Like what you see? Visit the ' +\n",
              "            '<a target=\"_blank\" href=https://colab.research.google.com/notebooks/data_table.ipynb>data table notebook</a>'\n",
              "            + ' to learn more about interactive tables.';\n",
              "          element.innerHTML = '';\n",
              "          dataTable['output_type'] = 'display_data';\n",
              "          await google.colab.output.renderOutput(dataTable, element);\n",
              "          const docLink = document.createElement('div');\n",
              "          docLink.innerHTML = docLinkHtml;\n",
              "          element.appendChild(docLink);\n",
              "        }\n",
              "      </script>\n",
              "    </div>\n",
              "  </div>\n",
              "  "
            ]
          },
          "metadata": {},
          "execution_count": 87
        }
      ]
    },
    {
      "cell_type": "code",
      "source": [
        "y = data1['Value']"
      ],
      "metadata": {
        "id": "0ni-SNh3dg3G"
      },
      "execution_count": 54,
      "outputs": []
    },
    {
      "cell_type": "code",
      "source": [
        "!pip install statsmodels==0.11.0"
      ],
      "metadata": {
        "id": "gLIoqvgZergY"
      },
      "execution_count": null,
      "outputs": []
    },
    {
      "cell_type": "code",
      "source": [
        "ARIMAmodel = ARIMA(y, order = (3, 2, 2))\n",
        "ARIMAmodel = ARIMAmodel.fit()\n",
        "\n",
        "y_pred = ARIMAmodel.get_forecast(len(test.index))\n",
        "y_pred_df = y_pred.conf_int(alpha = 0.05) \n",
        "y_pred_df[\"Predictions\"] = ARIMAmodel.predict(start = y_pred_df.index[0], end = y_pred_df.index[-1])\n",
        "y_pred_df.index = test.index\n",
        "y_pred_out = y_pred_df[\"Predictions\"] \n",
        "plt.plot(y_pred_out, color='Yellow', label = 'ARIMA Predictions')\n",
        "plt.legend()\n",
        "\n",
        "\n",
        "import numpy as np\n",
        "from sklearn.metrics import mean_squared_error\n",
        "\n",
        "arma_rmse = np.sqrt(mean_squared_error(test[\"Value\"].values, y_pred_df[\"Predictions\"]))\n",
        "print(\"RMSE: \",arma_rmse)"
      ],
      "metadata": {
        "colab": {
          "base_uri": "https://localhost:8080/",
          "height": 539
        },
        "id": "79DHy3MTG13c",
        "outputId": "bc41cf06-2998-4523-c674-04927148acf1"
      },
      "execution_count": 93,
      "outputs": [
        {
          "output_type": "stream",
          "name": "stderr",
          "text": [
            "/usr/local/lib/python3.7/dist-packages/statsmodels/tsa/base/tsa_model.py:583: ValueWarning: A date index has been provided, but it has no associated frequency information and so will be ignored when e.g. forecasting.\n",
            "  ' ignored when e.g. forecasting.', ValueWarning)\n",
            "/usr/local/lib/python3.7/dist-packages/statsmodels/tsa/base/tsa_model.py:583: ValueWarning: A date index has been provided, but it has no associated frequency information and so will be ignored when e.g. forecasting.\n",
            "  ' ignored when e.g. forecasting.', ValueWarning)\n",
            "/usr/local/lib/python3.7/dist-packages/statsmodels/tsa/base/tsa_model.py:583: ValueWarning: A date index has been provided, but it has no associated frequency information and so will be ignored when e.g. forecasting.\n",
            "  ' ignored when e.g. forecasting.', ValueWarning)\n",
            "/usr/local/lib/python3.7/dist-packages/statsmodels/tsa/statespace/sarimax.py:966: UserWarning: Non-stationary starting autoregressive parameters found. Using zeros as starting parameters.\n",
            "  warn('Non-stationary starting autoregressive parameters'\n",
            "/usr/local/lib/python3.7/dist-packages/statsmodels/tsa/statespace/sarimax.py:978: UserWarning: Non-invertible starting MA parameters found. Using zeros as starting parameters.\n",
            "  warn('Non-invertible starting MA parameters found.'\n",
            "/usr/local/lib/python3.7/dist-packages/statsmodels/tsa/base/tsa_model.py:379: ValueWarning: No supported index is available. Prediction results will be given with an integer index beginning at `start`.\n",
            "  ValueWarning)\n",
            "/usr/local/lib/python3.7/dist-packages/statsmodels/tsa/base/tsa_model.py:379: ValueWarning: No supported index is available. Prediction results will be given with an integer index beginning at `start`.\n",
            "  ValueWarning)\n"
          ]
        },
        {
          "output_type": "stream",
          "name": "stdout",
          "text": [
            "RMSE:  540.9885776814643\n"
          ]
        },
        {
          "output_type": "display_data",
          "data": {
            "text/plain": [
              "<Figure size 432x288 with 1 Axes>"
            ],
            "image/png": "[encoded data removed]"
          },
          "metadata": {
            "needs_background": "light"
          }
        }
      ]
    },
    {
      "cell_type": "code",
      "source": [
        "SARIMAXmodel = SARIMAX(y, order = (3, 2, 2), seasonal_order=(2,2,2,6))\n",
        "SARIMAXmodel = SARIMAXmodel.fit()\n",
        "\n",
        "y_pred = SARIMAXmodel.get_forecast(len(test.index))\n",
        "y_pred_df = y_pred.conf_int(alpha = 0.05) \n",
        "y_pred_df[\"Predictions\"] = SARIMAXmodel.predict(start = y_pred_df.index[0], end = y_pred_df.index[-1])\n",
        "y_pred_df.index = test.index\n",
        "y_pred_out = y_pred_df[\"Predictions\"] \n",
        "plt.plot(y_pred_out, color='Yellow', label = 'SARIMAX Predictions')\n",
        "plt.legend()\n",
        "\n",
        "\n",
        "import numpy as np\n",
        "from sklearn.metrics import mean_squared_error\n",
        "\n",
        "arma_rmse = np.sqrt(mean_squared_error(test[\"Value\"].values, y_pred_df[\"Predictions\"]))\n",
        "print(\"RMSE: \",arma_rmse)"
      ],
      "metadata": {
        "id": "MY49dtRcJYmQ"
      },
      "execution_count": null,
      "outputs": []
    },
    {
      "cell_type": "code",
      "source": [
        "import matplotlib"
      ],
      "metadata": {
        "id": "dsKSYRcfhOWD"
      },
      "execution_count": 39,
      "outputs": []
    },
    {
      "cell_type": "code",
      "source": [
        "y_pred_2 = ARIMAmodel.get_forecast(len(test.index)+365)\n",
        "pred_2 = y_pred_2.conf_int(alpha = 0.05)\n",
        "pred_2[\"Predictions\"] = ARIMAmodel.predict(start = pred_2.index[0], end = pred_2.index[-1])\n",
        "pred_2.index = pd.arrays.DatetimeArray(np.hstack([test.index.values,test2.index.values])[:578])\n",
        "y_pred_out = pred_2[\"Predictions\"] "
      ],
      "metadata": {
        "colab": {
          "base_uri": "https://localhost:8080/"
        },
        "id": "ouxGo9nskaaO",
        "outputId": "d449a19e-14ee-4aa9-ce3b-d78c5d647d7b"
      },
      "execution_count": 95,
      "outputs": [
        {
          "output_type": "stream",
          "name": "stderr",
          "text": [
            "/usr/local/lib/python3.7/dist-packages/statsmodels/tsa/base/tsa_model.py:379: ValueWarning: No supported index is available. Prediction results will be given with an integer index beginning at `start`.\n",
            "  ValueWarning)\n",
            "/usr/local/lib/python3.7/dist-packages/statsmodels/tsa/base/tsa_model.py:379: ValueWarning: No supported index is available. Prediction results will be given with an integer index beginning at `start`.\n",
            "  ValueWarning)\n"
          ]
        }
      ]
    },
    {
      "cell_type": "code",
      "source": [
        "train = data1[data1.index < pd.to_datetime(\"2020-06-01\", format='%Y-%m-%d')]\n",
        "\n",
        "fig = matplotlib.pyplot.gcf()\n",
        "fig.set_size_inches(18.5, 10.5)\n",
        "fig.savefig('test2png.png', dpi=100)\n",
        "plt.plot(test2, color = \"blue\")\n",
        "plt.plot(pred_2[\"Predictions\"], color = \"green\")\n",
        "plt.plot(data1, color = \"red\")\n",
        "plt.ylabel('Volume')\n",
        "plt.xlabel('Date')\n",
        "plt.xticks(rotation=45)\n",
        "plt.title(\"Predict/Test split\")\n",
        "plt.show()"
      ],
      "metadata": {
        "colab": {
          "base_uri": "https://localhost:8080/",
          "height": 664
        },
        "id": "nyStzbOTHxtB",
        "outputId": "3506f2e5-2e73-4d99-df90-81cbd0af5335"
      },
      "execution_count": 97,
      "outputs": [
        {
          "output_type": "display_data",
          "data": {
            "text/plain": [
              "<Figure size 1332x756 with 1 Axes>"
            ],
            "image/png": "[encoded data removed]"
          },
          "metadata": {
            "needs_background": "light"
          }
        }
      ]
    },
    {
      "cell_type": "code",
      "source": [
        "from matplotlib.pyplot import figure\n",
        "\n",
        "figure(figsize=(8, 12), dpi=80)"
      ],
      "metadata": {
        "colab": {
          "base_uri": "https://localhost:8080/",
          "height": 54
        },
        "id": "zCXnmoYIhBUL",
        "outputId": "611e8852-6bc5-4f26-8bae-bd08b74cc4b0"
      },
      "execution_count": 36,
      "outputs": [
        {
          "output_type": "execute_result",
          "data": {
            "text/plain": [
              "<Figure size 640x960 with 0 Axes>"
            ]
          },
          "metadata": {},
          "execution_count": 36
        },
        {
          "output_type": "display_data",
          "data": {
            "text/plain": [
              "<Figure size 640x960 with 0 Axes>"
            ]
          },
          "metadata": {}
        }
      ]
    },
    {
      "cell_type": "code",
      "source": [
        "data1.set_index('Date', inplace = True)"
      ],
      "metadata": {
        "id": "pgyDQFzz8xNm"
      },
      "execution_count": 16,
      "outputs": []
    },
    {
      "cell_type": "code",
      "source": [
        "data1.plot(figsize=(12,6))"
      ],
      "metadata": {
        "colab": {
          "base_uri": "https://localhost:8080/",
          "height": 393
        },
        "id": "yrN6bzqKCPF7",
        "outputId": "21814098-3beb-48e8-dd42-d250f4d78eda"
      },
      "execution_count": 23,
      "outputs": [
        {
          "output_type": "execute_result",
          "data": {
            "text/plain": [
              "<matplotlib.axes._subplots.AxesSubplot at 0x7f1be1a39b10>"
            ]
          },
          "metadata": {},
          "execution_count": 23
        },
        {
          "output_type": "display_data",
          "data": {
            "text/plain": [
              "<Figure size 864x432 with 1 Axes>"
            ],
            "image/png": "[encoded data removed]"
          },
          "metadata": {
            "needs_background": "light"
          }
        }
      ]
    },
    {
      "cell_type": "code",
      "source": [
        "data1.head()"
      ],
      "metadata": {
        "colab": {
          "base_uri": "https://localhost:8080/",
          "height": 237
        },
        "id": "Y1ZQM0nw9BRz",
        "outputId": "47dc2e81-fb90-4bc8-d411-fe04a77c3637"
      },
      "execution_count": 22,
      "outputs": [
        {
          "output_type": "execute_result",
          "data": {
            "text/plain": [
              "                  Value\n",
              "Date                   \n",
              "2017-01-01  8025.379166\n",
              "2017-01-02  8025.379166\n",
              "2017-01-03  8025.379166\n",
              "2017-01-04  8025.379166\n",
              "2017-01-05  8025.379166"
            ],
            "text/html": [
              "\n",
              "  <div id=\"df-191f751a-6e96-4f02-91e1-f01a1d62d697\">\n",
              "    <div class=\"colab-df-container\">\n",
              "      <div>\n",
              "<style scoped>\n",
              "    .dataframe tbody tr th:only-of-type {\n",
              "        vertical-align: middle;\n",
              "    }\n",
              "\n",
              "    .dataframe tbody tr th {\n",
              "        vertical-align: top;\n",
              "    }\n",
              "\n",
              "    .dataframe thead th {\n",
              "        text-align: right;\n",
              "    }\n",
              "</style>\n",
              "<table border=\"1\" class=\"dataframe\">\n",
              "  <thead>\n",
              "    <tr style=\"text-align: right;\">\n",
              "      <th></th>\n",
              "      <th>Value</th>\n",
              "    </tr>\n",
              "    <tr>\n",
              "      <th>Date</th>\n",
              "      <th></th>\n",
              "    </tr>\n",
              "  </thead>\n",
              "  <tbody>\n",
              "    <tr>\n",
              "      <th>2017-01-01</th>\n",
              "      <td>8025.379166</td>\n",
              "    </tr>\n",
              "    <tr>\n",
              "      <th>2017-01-02</th>\n",
              "      <td>8025.379166</td>\n",
              "    </tr>\n",
              "    <tr>\n",
              "      <th>2017-01-03</th>\n",
              "      <td>8025.379166</td>\n",
              "    </tr>\n",
              "    <tr>\n",
              "      <th>2017-01-04</th>\n",
              "      <td>8025.379166</td>\n",
              "    </tr>\n",
              "    <tr>\n",
              "      <th>2017-01-05</th>\n",
              "      <td>8025.379166</td>\n",
              "    </tr>\n",
              "  </tbody>\n",
              "</table>\n",
              "</div>\n",
              "      <button class=\"colab-df-convert\" onclick=\"convertToInteractive('df-191f751a-6e96-4f02-91e1-f01a1d62d697')\"\n",
              "              title=\"Convert this dataframe to an interactive table.\"\n",
              "              style=\"display:none;\">\n",
              "        \n",
              "  <svg xmlns=\"http://www.w3.org/2000/svg\" height=\"24px\"viewBox=\"0 0 24 24\"\n",
              "       width=\"24px\">\n",
              "    <path d=\"M0 0h24v24H0V0z\" fill=\"none\"/>\n",
              "    <path d=\"M18.56 5.44l.94 2.06.94-2.06 2.06-.94-2.06-.94-.94-2.06-.94 2.06-2.06.94zm-11 1L8.5 8.5l.94-2.06 2.06-.94-2.06-.94L8.5 2.5l-.94 2.06-2.06.94zm10 10l.94 2.06.94-2.06 2.06-.94-2.06-.94-.94-2.06-.94 2.06-2.06.94z\"/><path d=\"M17.41 7.96l-1.37-1.37c-.4-.4-.92-.59-1.43-.59-.52 0-1.04.2-1.43.59L10.3 9.45l-7.72 7.72c-.78.78-.78 2.05 0 2.83L4 21.41c.39.39.9.59 1.41.59.51 0 1.02-.2 1.41-.59l7.78-7.78 2.81-2.81c.8-.78.8-2.07 0-2.86zM5.41 20L4 18.59l7.72-7.72 1.47 1.35L5.41 20z\"/>\n",
              "  </svg>\n",
              "      </button>\n",
              "      \n",
              "  <style>\n",
              "    .colab-df-container {\n",
              "      display:flex;\n",
              "      flex-wrap:wrap;\n",
              "      gap: 12px;\n",
              "    }\n",
              "\n",
              "    .colab-df-convert {\n",
              "      background-color: #E8F0FE;\n",
              "      border: none;\n",
              "      border-radius: 50%;\n",
              "      cursor: pointer;\n",
              "      display: none;\n",
              "      fill: #1967D2;\n",
              "      height: 32px;\n",
              "      padding: 0 0 0 0;\n",
              "      width: 32px;\n",
              "    }\n",
              "\n",
              "    .colab-df-convert:hover {\n",
              "      background-color: #E2EBFA;\n",
              "      box-shadow: 0px 1px 2px rgba(60, 64, 67, 0.3), 0px 1px 3px 1px rgba(60, 64, 67, 0.15);\n",
              "      fill: #174EA6;\n",
              "    }\n",
              "\n",
              "    [theme=dark] .colab-df-convert {\n",
              "      background-color: #3B4455;\n",
              "      fill: #D2E3FC;\n",
              "    }\n",
              "\n",
              "    [theme=dark] .colab-df-convert:hover {\n",
              "      background-color: #434B5C;\n",
              "      box-shadow: 0px 1px 3px 1px rgba(0, 0, 0, 0.15);\n",
              "      filter: drop-shadow(0px 1px 2px rgba(0, 0, 0, 0.3));\n",
              "      fill: #FFFFFF;\n",
              "    }\n",
              "  </style>\n",
              "\n",
              "      <script>\n",
              "        const buttonEl =\n",
              "          document.querySelector('#df-191f751a-6e96-4f02-91e1-f01a1d62d697 button.colab-df-convert');\n",
              "        buttonEl.style.display =\n",
              "          google.colab.kernel.accessAllowed ? 'block' : 'none';\n",
              "\n",
              "        async function convertToInteractive(key) {\n",
              "          const element = document.querySelector('#df-191f751a-6e96-4f02-91e1-f01a1d62d697');\n",
              "          const dataTable =\n",
              "            await google.colab.kernel.invokeFunction('convertToInteractive',\n",
              "                                                     [key], {});\n",
              "          if (!dataTable) return;\n",
              "\n",
              "          const docLinkHtml = 'Like what you see? Visit the ' +\n",
              "            '<a target=\"_blank\" href=https://colab.research.google.com/notebooks/data_table.ipynb>data table notebook</a>'\n",
              "            + ' to learn more about interactive tables.';\n",
              "          element.innerHTML = '';\n",
              "          dataTable['output_type'] = 'display_data';\n",
              "          await google.colab.output.renderOutput(dataTable, element);\n",
              "          const docLink = document.createElement('div');\n",
              "          docLink.innerHTML = docLinkHtml;\n",
              "          element.appendChild(docLink);\n",
              "        }\n",
              "      </script>\n",
              "    </div>\n",
              "  </div>\n",
              "  "
            ]
          },
          "metadata": {},
          "execution_count": 22
        }
      ]
    },
    {
      "cell_type": "code",
      "source": [
        "data1['2017-01':'2018-01'].plot()"
      ],
      "metadata": {
        "id": "IdeGGyhX99yD"
      },
      "execution_count": null,
      "outputs": []
    },
    {
      "cell_type": "code",
      "source": [
        "from statsmodels.tsa.arima_model import ARIMA\n",
        "import statsmodels.api as sm"
      ],
      "metadata": {
        "id": "oj3duKtb_Ol_"
      },
      "execution_count": 12,
      "outputs": []
    },
    {
      "cell_type": "code",
      "source": [
        "model = sm.tsa.ARIMA(data1, order=(1,1,1)).fit(full_output=False, disp=0)"
      ],
      "metadata": {
        "id": "8umi317fDFPo"
      },
      "execution_count": null,
      "outputs": []
    },
    {
      "cell_type": "code",
      "source": [
        "pred = model.predict('2021-01-21','2021-12-31')"
      ],
      "metadata": {
        "id": "_XTEAPr8DWCv"
      },
      "execution_count": null,
      "outputs": []
    },
    {
      "cell_type": "code",
      "source": [
        "mymodel = ARIMA(data1.Value, order =(1, 1, 1),dates=data1.Date) \n",
        "modelfit = mymodel.fit(disp = 0)"
      ],
      "metadata": {
        "id": "vau6Kfya_R-i"
      },
      "execution_count": null,
      "outputs": []
    },
    {
      "cell_type": "code",
      "source": [
        "import matplotlib.pyplot as plt"
      ],
      "metadata": {
        "id": "ZqMr1cJE_0JW"
      },
      "execution_count": 36,
      "outputs": []
    },
    {
      "cell_type": "code",
      "source": [
        "plt.rcParams.update({'figure.figsize' :(9,3), 'figure.dpi' : 120})\n",
        "res = modelfit.plot_predict(dynamic = False) \n",
        "plt.show()"
      ],
      "metadata": {
        "colab": {
          "base_uri": "https://localhost:8080/",
          "height": 372
        },
        "id": "98H8_XL__qyZ",
        "outputId": "30a26b7b-2d30-4c48-ef8a-3e5f21db342f"
      },
      "execution_count": 47,
      "outputs": [
        {
          "output_type": "display_data",
          "data": {
            "text/plain": [
              "<Figure size 1080x360 with 1 Axes>"
            ],
            "image/png": "[encoded data removed]"
          },
          "metadata": {
            "needs_background": "light"
          }
        }
      ]
    },
    {
      "cell_type": "code",
      "source": [
        "res = modelfit.predict()\n",
        "res"
      ],
      "metadata": {
        "colab": {
          "base_uri": "https://localhost:8080/"
        },
        "id": "r1vzMA3TAR6l",
        "outputId": "c1a309f5-62d6-4038-d434-641221dca1d6"
      },
      "execution_count": 50,
      "outputs": [
        {
          "output_type": "execute_result",
          "data": {
            "text/plain": [
              "Date\n",
              "2017-01-02     8.608632\n",
              "2017-01-03     8.202077\n",
              "2017-01-04     8.384022\n",
              "2017-01-05     8.296622\n",
              "2017-01-06     8.337271\n",
              "                ...    \n",
              "2020-12-27    38.978241\n",
              "2020-12-28    15.821505\n",
              "2020-12-29    13.317778\n",
              "2020-12-30     2.954117\n",
              "2020-12-31    17.888031\n",
              "Length: 1457, dtype: float64"
            ]
          },
          "metadata": {},
          "execution_count": 50
        }
      ]
    }
  ]
}